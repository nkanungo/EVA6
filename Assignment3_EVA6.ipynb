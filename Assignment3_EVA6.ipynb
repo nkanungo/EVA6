{
  "nbformat": 4,
  "nbformat_minor": 0,
  "metadata": {
    "accelerator": "GPU",
    "colab": {
      "name": "Assignment3_EVA6.ipynb",
      "provenance": [],
      "collapsed_sections": [],
      "include_colab_link": true
    },
    "kernelspec": {
      "display_name": "Python 3",
      "name": "python3"
    },
    "language_info": {
      "name": "python"
    },
    "widgets": {
      "application/vnd.jupyter.widget-state+json": {
        "9087ae79970d4a878903657473dae619": {
          "model_module": "@jupyter-widgets/controls",
          "model_name": "HBoxModel",
          "state": {
            "_view_name": "HBoxView",
            "_dom_classes": [],
            "_model_name": "HBoxModel",
            "_view_module": "@jupyter-widgets/controls",
            "_model_module_version": "1.5.0",
            "_view_count": null,
            "_view_module_version": "1.5.0",
            "box_style": "",
            "layout": "IPY_MODEL_9e9e673f9ac640ecb1a03aafb6c3338d",
            "_model_module": "@jupyter-widgets/controls",
            "children": [
              "IPY_MODEL_151ba28445424712bc615e20807cc539",
              "IPY_MODEL_1dd2a98415ea4e748bc12d96ba11b092"
            ]
          }
        },
        "9e9e673f9ac640ecb1a03aafb6c3338d": {
          "model_module": "@jupyter-widgets/base",
          "model_name": "LayoutModel",
          "state": {
            "_view_name": "LayoutView",
            "grid_template_rows": null,
            "right": null,
            "justify_content": null,
            "_view_module": "@jupyter-widgets/base",
            "overflow": null,
            "_model_module_version": "1.2.0",
            "_view_count": null,
            "flex_flow": null,
            "width": null,
            "min_width": null,
            "border": null,
            "align_items": null,
            "bottom": null,
            "_model_module": "@jupyter-widgets/base",
            "top": null,
            "grid_column": null,
            "overflow_y": null,
            "overflow_x": null,
            "grid_auto_flow": null,
            "grid_area": null,
            "grid_template_columns": null,
            "flex": null,
            "_model_name": "LayoutModel",
            "justify_items": null,
            "grid_row": null,
            "max_height": null,
            "align_content": null,
            "visibility": null,
            "align_self": null,
            "height": null,
            "min_height": null,
            "padding": null,
            "grid_auto_rows": null,
            "grid_gap": null,
            "max_width": null,
            "order": null,
            "_view_module_version": "1.2.0",
            "grid_template_areas": null,
            "object_position": null,
            "object_fit": null,
            "grid_auto_columns": null,
            "margin": null,
            "display": null,
            "left": null
          }
        },
        "151ba28445424712bc615e20807cc539": {
          "model_module": "@jupyter-widgets/controls",
          "model_name": "FloatProgressModel",
          "state": {
            "_view_name": "ProgressView",
            "style": "IPY_MODEL_2e7df29fb76f42f9a43f427701a8c755",
            "_dom_classes": [],
            "description": "",
            "_model_name": "FloatProgressModel",
            "bar_style": "success",
            "max": 9912422,
            "_view_module": "@jupyter-widgets/controls",
            "_model_module_version": "1.5.0",
            "value": 9912422,
            "_view_count": null,
            "_view_module_version": "1.5.0",
            "orientation": "horizontal",
            "min": 0,
            "description_tooltip": null,
            "_model_module": "@jupyter-widgets/controls",
            "layout": "IPY_MODEL_8890d916bfb74c4a9a6e3bec764cf3e2"
          }
        },
        "1dd2a98415ea4e748bc12d96ba11b092": {
          "model_module": "@jupyter-widgets/controls",
          "model_name": "HTMLModel",
          "state": {
            "_view_name": "HTMLView",
            "style": "IPY_MODEL_d561f8fafe48458dab44c5eb246e9c1c",
            "_dom_classes": [],
            "description": "",
            "_model_name": "HTMLModel",
            "placeholder": "​",
            "_view_module": "@jupyter-widgets/controls",
            "_model_module_version": "1.5.0",
            "value": " 9913344/? [00:54&lt;00:00, 182756.20it/s]",
            "_view_count": null,
            "_view_module_version": "1.5.0",
            "description_tooltip": null,
            "_model_module": "@jupyter-widgets/controls",
            "layout": "IPY_MODEL_c7d3f7fee73742b795382ba57644d9fa"
          }
        },
        "2e7df29fb76f42f9a43f427701a8c755": {
          "model_module": "@jupyter-widgets/controls",
          "model_name": "ProgressStyleModel",
          "state": {
            "_view_name": "StyleView",
            "_model_name": "ProgressStyleModel",
            "description_width": "initial",
            "_view_module": "@jupyter-widgets/base",
            "_model_module_version": "1.5.0",
            "_view_count": null,
            "_view_module_version": "1.2.0",
            "bar_color": null,
            "_model_module": "@jupyter-widgets/controls"
          }
        },
        "8890d916bfb74c4a9a6e3bec764cf3e2": {
          "model_module": "@jupyter-widgets/base",
          "model_name": "LayoutModel",
          "state": {
            "_view_name": "LayoutView",
            "grid_template_rows": null,
            "right": null,
            "justify_content": null,
            "_view_module": "@jupyter-widgets/base",
            "overflow": null,
            "_model_module_version": "1.2.0",
            "_view_count": null,
            "flex_flow": null,
            "width": null,
            "min_width": null,
            "border": null,
            "align_items": null,
            "bottom": null,
            "_model_module": "@jupyter-widgets/base",
            "top": null,
            "grid_column": null,
            "overflow_y": null,
            "overflow_x": null,
            "grid_auto_flow": null,
            "grid_area": null,
            "grid_template_columns": null,
            "flex": null,
            "_model_name": "LayoutModel",
            "justify_items": null,
            "grid_row": null,
            "max_height": null,
            "align_content": null,
            "visibility": null,
            "align_self": null,
            "height": null,
            "min_height": null,
            "padding": null,
            "grid_auto_rows": null,
            "grid_gap": null,
            "max_width": null,
            "order": null,
            "_view_module_version": "1.2.0",
            "grid_template_areas": null,
            "object_position": null,
            "object_fit": null,
            "grid_auto_columns": null,
            "margin": null,
            "display": null,
            "left": null
          }
        },
        "d561f8fafe48458dab44c5eb246e9c1c": {
          "model_module": "@jupyter-widgets/controls",
          "model_name": "DescriptionStyleModel",
          "state": {
            "_view_name": "StyleView",
            "_model_name": "DescriptionStyleModel",
            "description_width": "",
            "_view_module": "@jupyter-widgets/base",
            "_model_module_version": "1.5.0",
            "_view_count": null,
            "_view_module_version": "1.2.0",
            "_model_module": "@jupyter-widgets/controls"
          }
        },
        "c7d3f7fee73742b795382ba57644d9fa": {
          "model_module": "@jupyter-widgets/base",
          "model_name": "LayoutModel",
          "state": {
            "_view_name": "LayoutView",
            "grid_template_rows": null,
            "right": null,
            "justify_content": null,
            "_view_module": "@jupyter-widgets/base",
            "overflow": null,
            "_model_module_version": "1.2.0",
            "_view_count": null,
            "flex_flow": null,
            "width": null,
            "min_width": null,
            "border": null,
            "align_items": null,
            "bottom": null,
            "_model_module": "@jupyter-widgets/base",
            "top": null,
            "grid_column": null,
            "overflow_y": null,
            "overflow_x": null,
            "grid_auto_flow": null,
            "grid_area": null,
            "grid_template_columns": null,
            "flex": null,
            "_model_name": "LayoutModel",
            "justify_items": null,
            "grid_row": null,
            "max_height": null,
            "align_content": null,
            "visibility": null,
            "align_self": null,
            "height": null,
            "min_height": null,
            "padding": null,
            "grid_auto_rows": null,
            "grid_gap": null,
            "max_width": null,
            "order": null,
            "_view_module_version": "1.2.0",
            "grid_template_areas": null,
            "object_position": null,
            "object_fit": null,
            "grid_auto_columns": null,
            "margin": null,
            "display": null,
            "left": null
          }
        },
        "57b2ee05c4274bd59b3e762c11d636c3": {
          "model_module": "@jupyter-widgets/controls",
          "model_name": "HBoxModel",
          "state": {
            "_view_name": "HBoxView",
            "_dom_classes": [],
            "_model_name": "HBoxModel",
            "_view_module": "@jupyter-widgets/controls",
            "_model_module_version": "1.5.0",
            "_view_count": null,
            "_view_module_version": "1.5.0",
            "box_style": "",
            "layout": "IPY_MODEL_309347322f014c8e9e0c8ba2151c02ad",
            "_model_module": "@jupyter-widgets/controls",
            "children": [
              "IPY_MODEL_34852b85e1534d58b89433ed41ea06b1",
              "IPY_MODEL_80dd0160e6ea4ec28c241766cf3686a0"
            ]
          }
        },
        "309347322f014c8e9e0c8ba2151c02ad": {
          "model_module": "@jupyter-widgets/base",
          "model_name": "LayoutModel",
          "state": {
            "_view_name": "LayoutView",
            "grid_template_rows": null,
            "right": null,
            "justify_content": null,
            "_view_module": "@jupyter-widgets/base",
            "overflow": null,
            "_model_module_version": "1.2.0",
            "_view_count": null,
            "flex_flow": null,
            "width": null,
            "min_width": null,
            "border": null,
            "align_items": null,
            "bottom": null,
            "_model_module": "@jupyter-widgets/base",
            "top": null,
            "grid_column": null,
            "overflow_y": null,
            "overflow_x": null,
            "grid_auto_flow": null,
            "grid_area": null,
            "grid_template_columns": null,
            "flex": null,
            "_model_name": "LayoutModel",
            "justify_items": null,
            "grid_row": null,
            "max_height": null,
            "align_content": null,
            "visibility": null,
            "align_self": null,
            "height": null,
            "min_height": null,
            "padding": null,
            "grid_auto_rows": null,
            "grid_gap": null,
            "max_width": null,
            "order": null,
            "_view_module_version": "1.2.0",
            "grid_template_areas": null,
            "object_position": null,
            "object_fit": null,
            "grid_auto_columns": null,
            "margin": null,
            "display": null,
            "left": null
          }
        },
        "34852b85e1534d58b89433ed41ea06b1": {
          "model_module": "@jupyter-widgets/controls",
          "model_name": "FloatProgressModel",
          "state": {
            "_view_name": "ProgressView",
            "style": "IPY_MODEL_a69ee3df0a834d4ca02d23d54c08a9a9",
            "_dom_classes": [],
            "description": "",
            "_model_name": "FloatProgressModel",
            "bar_style": "success",
            "max": 28881,
            "_view_module": "@jupyter-widgets/controls",
            "_model_module_version": "1.5.0",
            "value": 28881,
            "_view_count": null,
            "_view_module_version": "1.5.0",
            "orientation": "horizontal",
            "min": 0,
            "description_tooltip": null,
            "_model_module": "@jupyter-widgets/controls",
            "layout": "IPY_MODEL_6d1a09086d9749f3b88e480b2865001c"
          }
        },
        "80dd0160e6ea4ec28c241766cf3686a0": {
          "model_module": "@jupyter-widgets/controls",
          "model_name": "HTMLModel",
          "state": {
            "_view_name": "HTMLView",
            "style": "IPY_MODEL_d4d78ea5a58642f686a71c42f0a6aa87",
            "_dom_classes": [],
            "description": "",
            "_model_name": "HTMLModel",
            "placeholder": "​",
            "_view_module": "@jupyter-widgets/controls",
            "_model_module_version": "1.5.0",
            "value": " 29696/? [00:00&lt;00:00, 260270.04it/s]",
            "_view_count": null,
            "_view_module_version": "1.5.0",
            "description_tooltip": null,
            "_model_module": "@jupyter-widgets/controls",
            "layout": "IPY_MODEL_e7ea02e4f7d3438bb0f4486e6b009c9e"
          }
        },
        "a69ee3df0a834d4ca02d23d54c08a9a9": {
          "model_module": "@jupyter-widgets/controls",
          "model_name": "ProgressStyleModel",
          "state": {
            "_view_name": "StyleView",
            "_model_name": "ProgressStyleModel",
            "description_width": "initial",
            "_view_module": "@jupyter-widgets/base",
            "_model_module_version": "1.5.0",
            "_view_count": null,
            "_view_module_version": "1.2.0",
            "bar_color": null,
            "_model_module": "@jupyter-widgets/controls"
          }
        },
        "6d1a09086d9749f3b88e480b2865001c": {
          "model_module": "@jupyter-widgets/base",
          "model_name": "LayoutModel",
          "state": {
            "_view_name": "LayoutView",
            "grid_template_rows": null,
            "right": null,
            "justify_content": null,
            "_view_module": "@jupyter-widgets/base",
            "overflow": null,
            "_model_module_version": "1.2.0",
            "_view_count": null,
            "flex_flow": null,
            "width": null,
            "min_width": null,
            "border": null,
            "align_items": null,
            "bottom": null,
            "_model_module": "@jupyter-widgets/base",
            "top": null,
            "grid_column": null,
            "overflow_y": null,
            "overflow_x": null,
            "grid_auto_flow": null,
            "grid_area": null,
            "grid_template_columns": null,
            "flex": null,
            "_model_name": "LayoutModel",
            "justify_items": null,
            "grid_row": null,
            "max_height": null,
            "align_content": null,
            "visibility": null,
            "align_self": null,
            "height": null,
            "min_height": null,
            "padding": null,
            "grid_auto_rows": null,
            "grid_gap": null,
            "max_width": null,
            "order": null,
            "_view_module_version": "1.2.0",
            "grid_template_areas": null,
            "object_position": null,
            "object_fit": null,
            "grid_auto_columns": null,
            "margin": null,
            "display": null,
            "left": null
          }
        },
        "d4d78ea5a58642f686a71c42f0a6aa87": {
          "model_module": "@jupyter-widgets/controls",
          "model_name": "DescriptionStyleModel",
          "state": {
            "_view_name": "StyleView",
            "_model_name": "DescriptionStyleModel",
            "description_width": "",
            "_view_module": "@jupyter-widgets/base",
            "_model_module_version": "1.5.0",
            "_view_count": null,
            "_view_module_version": "1.2.0",
            "_model_module": "@jupyter-widgets/controls"
          }
        },
        "e7ea02e4f7d3438bb0f4486e6b009c9e": {
          "model_module": "@jupyter-widgets/base",
          "model_name": "LayoutModel",
          "state": {
            "_view_name": "LayoutView",
            "grid_template_rows": null,
            "right": null,
            "justify_content": null,
            "_view_module": "@jupyter-widgets/base",
            "overflow": null,
            "_model_module_version": "1.2.0",
            "_view_count": null,
            "flex_flow": null,
            "width": null,
            "min_width": null,
            "border": null,
            "align_items": null,
            "bottom": null,
            "_model_module": "@jupyter-widgets/base",
            "top": null,
            "grid_column": null,
            "overflow_y": null,
            "overflow_x": null,
            "grid_auto_flow": null,
            "grid_area": null,
            "grid_template_columns": null,
            "flex": null,
            "_model_name": "LayoutModel",
            "justify_items": null,
            "grid_row": null,
            "max_height": null,
            "align_content": null,
            "visibility": null,
            "align_self": null,
            "height": null,
            "min_height": null,
            "padding": null,
            "grid_auto_rows": null,
            "grid_gap": null,
            "max_width": null,
            "order": null,
            "_view_module_version": "1.2.0",
            "grid_template_areas": null,
            "object_position": null,
            "object_fit": null,
            "grid_auto_columns": null,
            "margin": null,
            "display": null,
            "left": null
          }
        },
        "d22079958fa64c218862a16827cf2912": {
          "model_module": "@jupyter-widgets/controls",
          "model_name": "HBoxModel",
          "state": {
            "_view_name": "HBoxView",
            "_dom_classes": [],
            "_model_name": "HBoxModel",
            "_view_module": "@jupyter-widgets/controls",
            "_model_module_version": "1.5.0",
            "_view_count": null,
            "_view_module_version": "1.5.0",
            "box_style": "",
            "layout": "IPY_MODEL_768fa871a62a408490cf9f2a4938d9a9",
            "_model_module": "@jupyter-widgets/controls",
            "children": [
              "IPY_MODEL_524b554704ce4b94953f06b25c0a5ad4",
              "IPY_MODEL_57c8f88031f441de9cea9867c53bf441"
            ]
          }
        },
        "768fa871a62a408490cf9f2a4938d9a9": {
          "model_module": "@jupyter-widgets/base",
          "model_name": "LayoutModel",
          "state": {
            "_view_name": "LayoutView",
            "grid_template_rows": null,
            "right": null,
            "justify_content": null,
            "_view_module": "@jupyter-widgets/base",
            "overflow": null,
            "_model_module_version": "1.2.0",
            "_view_count": null,
            "flex_flow": null,
            "width": null,
            "min_width": null,
            "border": null,
            "align_items": null,
            "bottom": null,
            "_model_module": "@jupyter-widgets/base",
            "top": null,
            "grid_column": null,
            "overflow_y": null,
            "overflow_x": null,
            "grid_auto_flow": null,
            "grid_area": null,
            "grid_template_columns": null,
            "flex": null,
            "_model_name": "LayoutModel",
            "justify_items": null,
            "grid_row": null,
            "max_height": null,
            "align_content": null,
            "visibility": null,
            "align_self": null,
            "height": null,
            "min_height": null,
            "padding": null,
            "grid_auto_rows": null,
            "grid_gap": null,
            "max_width": null,
            "order": null,
            "_view_module_version": "1.2.0",
            "grid_template_areas": null,
            "object_position": null,
            "object_fit": null,
            "grid_auto_columns": null,
            "margin": null,
            "display": null,
            "left": null
          }
        },
        "524b554704ce4b94953f06b25c0a5ad4": {
          "model_module": "@jupyter-widgets/controls",
          "model_name": "FloatProgressModel",
          "state": {
            "_view_name": "ProgressView",
            "style": "IPY_MODEL_e29974fea8cc4ae0a84b665937cb5388",
            "_dom_classes": [],
            "description": "",
            "_model_name": "FloatProgressModel",
            "bar_style": "success",
            "max": 1648877,
            "_view_module": "@jupyter-widgets/controls",
            "_model_module_version": "1.5.0",
            "value": 1648877,
            "_view_count": null,
            "_view_module_version": "1.5.0",
            "orientation": "horizontal",
            "min": 0,
            "description_tooltip": null,
            "_model_module": "@jupyter-widgets/controls",
            "layout": "IPY_MODEL_6885c469cf364a1e8b80f3340aad9f01"
          }
        },
        "57c8f88031f441de9cea9867c53bf441": {
          "model_module": "@jupyter-widgets/controls",
          "model_name": "HTMLModel",
          "state": {
            "_view_name": "HTMLView",
            "style": "IPY_MODEL_cf4dd6ce4b91482095d78814cc70cd29",
            "_dom_classes": [],
            "description": "",
            "_model_name": "HTMLModel",
            "placeholder": "​",
            "_view_module": "@jupyter-widgets/controls",
            "_model_module_version": "1.5.0",
            "value": " 1649664/? [00:51&lt;00:00, 31993.35it/s]",
            "_view_count": null,
            "_view_module_version": "1.5.0",
            "description_tooltip": null,
            "_model_module": "@jupyter-widgets/controls",
            "layout": "IPY_MODEL_b454d9c3bb6b4fb49db620969d954714"
          }
        },
        "e29974fea8cc4ae0a84b665937cb5388": {
          "model_module": "@jupyter-widgets/controls",
          "model_name": "ProgressStyleModel",
          "state": {
            "_view_name": "StyleView",
            "_model_name": "ProgressStyleModel",
            "description_width": "initial",
            "_view_module": "@jupyter-widgets/base",
            "_model_module_version": "1.5.0",
            "_view_count": null,
            "_view_module_version": "1.2.0",
            "bar_color": null,
            "_model_module": "@jupyter-widgets/controls"
          }
        },
        "6885c469cf364a1e8b80f3340aad9f01": {
          "model_module": "@jupyter-widgets/base",
          "model_name": "LayoutModel",
          "state": {
            "_view_name": "LayoutView",
            "grid_template_rows": null,
            "right": null,
            "justify_content": null,
            "_view_module": "@jupyter-widgets/base",
            "overflow": null,
            "_model_module_version": "1.2.0",
            "_view_count": null,
            "flex_flow": null,
            "width": null,
            "min_width": null,
            "border": null,
            "align_items": null,
            "bottom": null,
            "_model_module": "@jupyter-widgets/base",
            "top": null,
            "grid_column": null,
            "overflow_y": null,
            "overflow_x": null,
            "grid_auto_flow": null,
            "grid_area": null,
            "grid_template_columns": null,
            "flex": null,
            "_model_name": "LayoutModel",
            "justify_items": null,
            "grid_row": null,
            "max_height": null,
            "align_content": null,
            "visibility": null,
            "align_self": null,
            "height": null,
            "min_height": null,
            "padding": null,
            "grid_auto_rows": null,
            "grid_gap": null,
            "max_width": null,
            "order": null,
            "_view_module_version": "1.2.0",
            "grid_template_areas": null,
            "object_position": null,
            "object_fit": null,
            "grid_auto_columns": null,
            "margin": null,
            "display": null,
            "left": null
          }
        },
        "cf4dd6ce4b91482095d78814cc70cd29": {
          "model_module": "@jupyter-widgets/controls",
          "model_name": "DescriptionStyleModel",
          "state": {
            "_view_name": "StyleView",
            "_model_name": "DescriptionStyleModel",
            "description_width": "",
            "_view_module": "@jupyter-widgets/base",
            "_model_module_version": "1.5.0",
            "_view_count": null,
            "_view_module_version": "1.2.0",
            "_model_module": "@jupyter-widgets/controls"
          }
        },
        "b454d9c3bb6b4fb49db620969d954714": {
          "model_module": "@jupyter-widgets/base",
          "model_name": "LayoutModel",
          "state": {
            "_view_name": "LayoutView",
            "grid_template_rows": null,
            "right": null,
            "justify_content": null,
            "_view_module": "@jupyter-widgets/base",
            "overflow": null,
            "_model_module_version": "1.2.0",
            "_view_count": null,
            "flex_flow": null,
            "width": null,
            "min_width": null,
            "border": null,
            "align_items": null,
            "bottom": null,
            "_model_module": "@jupyter-widgets/base",
            "top": null,
            "grid_column": null,
            "overflow_y": null,
            "overflow_x": null,
            "grid_auto_flow": null,
            "grid_area": null,
            "grid_template_columns": null,
            "flex": null,
            "_model_name": "LayoutModel",
            "justify_items": null,
            "grid_row": null,
            "max_height": null,
            "align_content": null,
            "visibility": null,
            "align_self": null,
            "height": null,
            "min_height": null,
            "padding": null,
            "grid_auto_rows": null,
            "grid_gap": null,
            "max_width": null,
            "order": null,
            "_view_module_version": "1.2.0",
            "grid_template_areas": null,
            "object_position": null,
            "object_fit": null,
            "grid_auto_columns": null,
            "margin": null,
            "display": null,
            "left": null
          }
        },
        "e8bf27e0997b427fbdb79d40878fa3f7": {
          "model_module": "@jupyter-widgets/controls",
          "model_name": "HBoxModel",
          "state": {
            "_view_name": "HBoxView",
            "_dom_classes": [],
            "_model_name": "HBoxModel",
            "_view_module": "@jupyter-widgets/controls",
            "_model_module_version": "1.5.0",
            "_view_count": null,
            "_view_module_version": "1.5.0",
            "box_style": "",
            "layout": "IPY_MODEL_86b0bc742f1d4f66a49bf1bc837eed2a",
            "_model_module": "@jupyter-widgets/controls",
            "children": [
              "IPY_MODEL_ce6bd104be6041869fb946ba962079e8",
              "IPY_MODEL_d04fe2fcb0ba4ba892bc5d8378f81db3"
            ]
          }
        },
        "86b0bc742f1d4f66a49bf1bc837eed2a": {
          "model_module": "@jupyter-widgets/base",
          "model_name": "LayoutModel",
          "state": {
            "_view_name": "LayoutView",
            "grid_template_rows": null,
            "right": null,
            "justify_content": null,
            "_view_module": "@jupyter-widgets/base",
            "overflow": null,
            "_model_module_version": "1.2.0",
            "_view_count": null,
            "flex_flow": null,
            "width": null,
            "min_width": null,
            "border": null,
            "align_items": null,
            "bottom": null,
            "_model_module": "@jupyter-widgets/base",
            "top": null,
            "grid_column": null,
            "overflow_y": null,
            "overflow_x": null,
            "grid_auto_flow": null,
            "grid_area": null,
            "grid_template_columns": null,
            "flex": null,
            "_model_name": "LayoutModel",
            "justify_items": null,
            "grid_row": null,
            "max_height": null,
            "align_content": null,
            "visibility": null,
            "align_self": null,
            "height": null,
            "min_height": null,
            "padding": null,
            "grid_auto_rows": null,
            "grid_gap": null,
            "max_width": null,
            "order": null,
            "_view_module_version": "1.2.0",
            "grid_template_areas": null,
            "object_position": null,
            "object_fit": null,
            "grid_auto_columns": null,
            "margin": null,
            "display": null,
            "left": null
          }
        },
        "ce6bd104be6041869fb946ba962079e8": {
          "model_module": "@jupyter-widgets/controls",
          "model_name": "FloatProgressModel",
          "state": {
            "_view_name": "ProgressView",
            "style": "IPY_MODEL_933f83bee02549bdb1668e0d1fd4d408",
            "_dom_classes": [],
            "description": "",
            "_model_name": "FloatProgressModel",
            "bar_style": "success",
            "max": 4542,
            "_view_module": "@jupyter-widgets/controls",
            "_model_module_version": "1.5.0",
            "value": 4542,
            "_view_count": null,
            "_view_module_version": "1.5.0",
            "orientation": "horizontal",
            "min": 0,
            "description_tooltip": null,
            "_model_module": "@jupyter-widgets/controls",
            "layout": "IPY_MODEL_d81ccd371c704ca08bf9cb017090616e"
          }
        },
        "d04fe2fcb0ba4ba892bc5d8378f81db3": {
          "model_module": "@jupyter-widgets/controls",
          "model_name": "HTMLModel",
          "state": {
            "_view_name": "HTMLView",
            "style": "IPY_MODEL_94a133b07b174c5bb18c898ddf566f21",
            "_dom_classes": [],
            "description": "",
            "_model_name": "HTMLModel",
            "placeholder": "​",
            "_view_module": "@jupyter-widgets/controls",
            "_model_module_version": "1.5.0",
            "value": " 5120/? [00:00&lt;00:00, 15298.71it/s]",
            "_view_count": null,
            "_view_module_version": "1.5.0",
            "description_tooltip": null,
            "_model_module": "@jupyter-widgets/controls",
            "layout": "IPY_MODEL_7ca93d3c39f14b06ae65f3ac66d51da0"
          }
        },
        "933f83bee02549bdb1668e0d1fd4d408": {
          "model_module": "@jupyter-widgets/controls",
          "model_name": "ProgressStyleModel",
          "state": {
            "_view_name": "StyleView",
            "_model_name": "ProgressStyleModel",
            "description_width": "initial",
            "_view_module": "@jupyter-widgets/base",
            "_model_module_version": "1.5.0",
            "_view_count": null,
            "_view_module_version": "1.2.0",
            "bar_color": null,
            "_model_module": "@jupyter-widgets/controls"
          }
        },
        "d81ccd371c704ca08bf9cb017090616e": {
          "model_module": "@jupyter-widgets/base",
          "model_name": "LayoutModel",
          "state": {
            "_view_name": "LayoutView",
            "grid_template_rows": null,
            "right": null,
            "justify_content": null,
            "_view_module": "@jupyter-widgets/base",
            "overflow": null,
            "_model_module_version": "1.2.0",
            "_view_count": null,
            "flex_flow": null,
            "width": null,
            "min_width": null,
            "border": null,
            "align_items": null,
            "bottom": null,
            "_model_module": "@jupyter-widgets/base",
            "top": null,
            "grid_column": null,
            "overflow_y": null,
            "overflow_x": null,
            "grid_auto_flow": null,
            "grid_area": null,
            "grid_template_columns": null,
            "flex": null,
            "_model_name": "LayoutModel",
            "justify_items": null,
            "grid_row": null,
            "max_height": null,
            "align_content": null,
            "visibility": null,
            "align_self": null,
            "height": null,
            "min_height": null,
            "padding": null,
            "grid_auto_rows": null,
            "grid_gap": null,
            "max_width": null,
            "order": null,
            "_view_module_version": "1.2.0",
            "grid_template_areas": null,
            "object_position": null,
            "object_fit": null,
            "grid_auto_columns": null,
            "margin": null,
            "display": null,
            "left": null
          }
        },
        "94a133b07b174c5bb18c898ddf566f21": {
          "model_module": "@jupyter-widgets/controls",
          "model_name": "DescriptionStyleModel",
          "state": {
            "_view_name": "StyleView",
            "_model_name": "DescriptionStyleModel",
            "description_width": "",
            "_view_module": "@jupyter-widgets/base",
            "_model_module_version": "1.5.0",
            "_view_count": null,
            "_view_module_version": "1.2.0",
            "_model_module": "@jupyter-widgets/controls"
          }
        },
        "7ca93d3c39f14b06ae65f3ac66d51da0": {
          "model_module": "@jupyter-widgets/base",
          "model_name": "LayoutModel",
          "state": {
            "_view_name": "LayoutView",
            "grid_template_rows": null,
            "right": null,
            "justify_content": null,
            "_view_module": "@jupyter-widgets/base",
            "overflow": null,
            "_model_module_version": "1.2.0",
            "_view_count": null,
            "flex_flow": null,
            "width": null,
            "min_width": null,
            "border": null,
            "align_items": null,
            "bottom": null,
            "_model_module": "@jupyter-widgets/base",
            "top": null,
            "grid_column": null,
            "overflow_y": null,
            "overflow_x": null,
            "grid_auto_flow": null,
            "grid_area": null,
            "grid_template_columns": null,
            "flex": null,
            "_model_name": "LayoutModel",
            "justify_items": null,
            "grid_row": null,
            "max_height": null,
            "align_content": null,
            "visibility": null,
            "align_self": null,
            "height": null,
            "min_height": null,
            "padding": null,
            "grid_auto_rows": null,
            "grid_gap": null,
            "max_width": null,
            "order": null,
            "_view_module_version": "1.2.0",
            "grid_template_areas": null,
            "object_position": null,
            "object_fit": null,
            "grid_auto_columns": null,
            "margin": null,
            "display": null,
            "left": null
          }
        }
      }
    }
  },
  "cells": [
    {
      "cell_type": "markdown",
      "metadata": {
        "id": "view-in-github",
        "colab_type": "text"
      },
      "source": [
        "<a href=\"https://colab.research.google.com/github/nkanungo/EVA6/blob/main/Assignment3_EVA6.ipynb\" target=\"_parent\"><img src=\"https://colab.research.google.com/assets/colab-badge.svg\" alt=\"Open In Colab\"/></a>"
      ]
    },
    {
      "cell_type": "markdown",
      "metadata": {
        "id": "9AcxqUdF0tky"
      },
      "source": [
        "Assignment-3 \n",
        "===============\n",
        "Program :      EVA-6\n",
        "\n",
        "Submitted by : Nihar Kanungo\n",
        "\n",
        "Requirement \n",
        "===============\n",
        "\n",
        "Write a neural network that can:\n",
        "take 2 inputs:\n",
        "\n",
        "1. An image from MNIST dataset, and\n",
        "2. A random number between 0 and 9\n",
        "\n",
        "and gives two outputs:\n",
        "\n",
        "1. The \"number\" that was represented by the MNIST image, and\n",
        "2. The \"sum\" of this number with the random number that was generated and sent as the input to the network\n",
        "\n",
        "![alt text](imagename.png \"Requirement Diagram\")\n",
        "\n",
        "What's Allowed\n",
        "=================  \n",
        "1. you can mix fully connected layers and convolution layers\n",
        "2. you can use one-hot encoding to represent the random number input as well as the \"summed\" output. \n",
        "\n",
        "Your code MUST be:\n",
        "======================\n",
        "1. well documented (via readme file on github and comments in the code)\n",
        "2. must mention the data representation\n",
        "3. must mention your data generation strategy\n",
        "4. must mention how you have combined the two inputs\n",
        "5. must mention how you are evaluating your results\n",
        "6. must mention \"what\" results you finally got and how did you evaluate your results\n",
        "7. must mention what loss function you picked and why!\n",
        "8. training MUST happen on the GPU\n"
      ]
    },
    {
      "cell_type": "code",
      "metadata": {
        "colab": {
          "base_uri": "https://localhost:8080/"
        },
        "id": "e60epr46hPnt",
        "outputId": "3950aaa4-d22a-4340-f857-4c9a7650924a"
      },
      "source": [
        "# Pytorch's tensors are similar to Numpy's ndarrays\n",
        "# Install Pytorch \n",
        "!pip install torch"
      ],
      "execution_count": null,
      "outputs": [
        {
          "output_type": "stream",
          "text": [
            "Requirement already satisfied: torch in /usr/local/lib/python3.7/dist-packages (1.8.1+cu101)\n",
            "Requirement already satisfied: numpy in /usr/local/lib/python3.7/dist-packages (from torch) (1.19.5)\n",
            "Requirement already satisfied: typing-extensions in /usr/local/lib/python3.7/dist-packages (from torch) (3.7.4.3)\n"
          ],
          "name": "stdout"
        }
      ]
    },
    {
      "cell_type": "markdown",
      "metadata": {
        "id": "x2cdnumMIMzJ"
      },
      "source": [
        "\n",
        "\n",
        "### A common nn pipeline looks like this:\n",
        "1. Prepare the data\n",
        "2. Build the model\n",
        "3. Train the model\n",
        "4. Analyze the model"
      ]
    },
    {
      "cell_type": "markdown",
      "metadata": {
        "id": "JVNFV4SQEGAy"
      },
      "source": [
        "# Import all required Libraries for the Program"
      ]
    },
    {
      "cell_type": "code",
      "metadata": {
        "id": "eFHqwtCyG8BG"
      },
      "source": [
        "import torch\n",
        "import torchvision # provide access to datasets, models, transforms, utils, etc\n",
        "import torchvision.transforms as transforms\n",
        "from torch.utils.data import Dataset\n",
        "import numpy as np\n",
        "import matplotlib.pyplot as plt\n",
        "import torch.nn.functional as F\n",
        "\n"
      ],
      "execution_count": null,
      "outputs": []
    },
    {
      "cell_type": "code",
      "metadata": {
        "colab": {
          "base_uri": "https://localhost:8080/",
          "height": 658,
          "referenced_widgets": [
            "9087ae79970d4a878903657473dae619",
            "9e9e673f9ac640ecb1a03aafb6c3338d",
            "151ba28445424712bc615e20807cc539",
            "1dd2a98415ea4e748bc12d96ba11b092",
            "2e7df29fb76f42f9a43f427701a8c755",
            "8890d916bfb74c4a9a6e3bec764cf3e2",
            "d561f8fafe48458dab44c5eb246e9c1c",
            "c7d3f7fee73742b795382ba57644d9fa",
            "57b2ee05c4274bd59b3e762c11d636c3",
            "309347322f014c8e9e0c8ba2151c02ad",
            "34852b85e1534d58b89433ed41ea06b1",
            "80dd0160e6ea4ec28c241766cf3686a0",
            "a69ee3df0a834d4ca02d23d54c08a9a9",
            "6d1a09086d9749f3b88e480b2865001c",
            "d4d78ea5a58642f686a71c42f0a6aa87",
            "e7ea02e4f7d3438bb0f4486e6b009c9e",
            "d22079958fa64c218862a16827cf2912",
            "768fa871a62a408490cf9f2a4938d9a9",
            "524b554704ce4b94953f06b25c0a5ad4",
            "57c8f88031f441de9cea9867c53bf441",
            "e29974fea8cc4ae0a84b665937cb5388",
            "6885c469cf364a1e8b80f3340aad9f01",
            "cf4dd6ce4b91482095d78814cc70cd29",
            "b454d9c3bb6b4fb49db620969d954714",
            "e8bf27e0997b427fbdb79d40878fa3f7",
            "86b0bc742f1d4f66a49bf1bc837eed2a",
            "ce6bd104be6041869fb946ba962079e8",
            "d04fe2fcb0ba4ba892bc5d8378f81db3",
            "933f83bee02549bdb1668e0d1fd4d408",
            "d81ccd371c704ca08bf9cb017090616e",
            "94a133b07b174c5bb18c898ddf566f21",
            "7ca93d3c39f14b06ae65f3ac66d51da0"
          ]
        },
        "id": "7Eerlo0qJLAD",
        "outputId": "6ab8c1bb-ab88-445a-b284-816bdd9f13d4"
      },
      "source": [
        "# Download the MNIST Dataset to the data folder\n",
        "\n",
        "train_set = torchvision.datasets.MNIST(\n",
        "    root='./data'\n",
        "    ,train=True\n",
        "    ,download=True\n",
        "    ,transform=transforms.Compose([\n",
        "        transforms.ToTensor()\n",
        "    ])\n",
        ")\n",
        "\n"
      ],
      "execution_count": null,
      "outputs": [
        {
          "output_type": "stream",
          "text": [
            "Downloading http://yann.lecun.com/exdb/mnist/train-images-idx3-ubyte.gz\n",
            "Downloading http://yann.lecun.com/exdb/mnist/train-images-idx3-ubyte.gz to ./data/MNIST/raw/train-images-idx3-ubyte.gz\n",
            "Failed to download (trying next):\n",
            "HTTP Error 503: Service Unavailable\n",
            "\n",
            "Downloading https://ossci-datasets.s3.amazonaws.com/mnist/train-images-idx3-ubyte.gz\n",
            "Downloading https://ossci-datasets.s3.amazonaws.com/mnist/train-images-idx3-ubyte.gz to ./data/MNIST/raw/train-images-idx3-ubyte.gz\n"
          ],
          "name": "stdout"
        },
        {
          "output_type": "display_data",
          "data": {
            "application/vnd.jupyter.widget-view+json": {
              "model_id": "9087ae79970d4a878903657473dae619",
              "version_minor": 0,
              "version_major": 2
            },
            "text/plain": [
              "HBox(children=(FloatProgress(value=0.0, max=9912422.0), HTML(value='')))"
            ]
          },
          "metadata": {
            "tags": []
          }
        },
        {
          "output_type": "stream",
          "text": [
            "\n",
            "Extracting ./data/MNIST/raw/train-images-idx3-ubyte.gz to ./data/MNIST/raw\n",
            "\n",
            "Downloading http://yann.lecun.com/exdb/mnist/train-labels-idx1-ubyte.gz\n",
            "Downloading http://yann.lecun.com/exdb/mnist/train-labels-idx1-ubyte.gz to ./data/MNIST/raw/train-labels-idx1-ubyte.gz\n"
          ],
          "name": "stdout"
        },
        {
          "output_type": "display_data",
          "data": {
            "application/vnd.jupyter.widget-view+json": {
              "model_id": "57b2ee05c4274bd59b3e762c11d636c3",
              "version_minor": 0,
              "version_major": 2
            },
            "text/plain": [
              "HBox(children=(FloatProgress(value=0.0, max=28881.0), HTML(value='')))"
            ]
          },
          "metadata": {
            "tags": []
          }
        },
        {
          "output_type": "stream",
          "text": [
            "\n",
            "Extracting ./data/MNIST/raw/train-labels-idx1-ubyte.gz to ./data/MNIST/raw\n",
            "\n",
            "Downloading http://yann.lecun.com/exdb/mnist/t10k-images-idx3-ubyte.gz\n",
            "Downloading http://yann.lecun.com/exdb/mnist/t10k-images-idx3-ubyte.gz to ./data/MNIST/raw/t10k-images-idx3-ubyte.gz\n"
          ],
          "name": "stdout"
        },
        {
          "output_type": "display_data",
          "data": {
            "application/vnd.jupyter.widget-view+json": {
              "model_id": "d22079958fa64c218862a16827cf2912",
              "version_minor": 0,
              "version_major": 2
            },
            "text/plain": [
              "HBox(children=(FloatProgress(value=0.0, max=1648877.0), HTML(value='')))"
            ]
          },
          "metadata": {
            "tags": []
          }
        },
        {
          "output_type": "stream",
          "text": [
            "\n",
            "Extracting ./data/MNIST/raw/t10k-images-idx3-ubyte.gz to ./data/MNIST/raw\n",
            "\n",
            "Downloading http://yann.lecun.com/exdb/mnist/t10k-labels-idx1-ubyte.gz\n",
            "Downloading http://yann.lecun.com/exdb/mnist/t10k-labels-idx1-ubyte.gz to ./data/MNIST/raw/t10k-labels-idx1-ubyte.gz\n"
          ],
          "name": "stdout"
        },
        {
          "output_type": "display_data",
          "data": {
            "application/vnd.jupyter.widget-view+json": {
              "model_id": "e8bf27e0997b427fbdb79d40878fa3f7",
              "version_minor": 0,
              "version_major": 2
            },
            "text/plain": [
              "HBox(children=(FloatProgress(value=0.0, max=4542.0), HTML(value='')))"
            ]
          },
          "metadata": {
            "tags": []
          }
        },
        {
          "output_type": "stream",
          "text": [
            "\n",
            "Extracting ./data/MNIST/raw/t10k-labels-idx1-ubyte.gz to ./data/MNIST/raw\n",
            "\n",
            "Processing...\n",
            "Done!\n"
          ],
          "name": "stdout"
        },
        {
          "output_type": "stream",
          "text": [
            "/usr/local/lib/python3.7/dist-packages/torchvision/datasets/mnist.py:502: UserWarning: The given NumPy array is not writeable, and PyTorch does not support non-writeable tensors. This means you can write to the underlying (supposedly non-writeable) NumPy array using the tensor. You may want to copy the array to protect its data or make it writeable before converting it to a tensor. This type of warning will be suppressed for the rest of this program. (Triggered internally at  /pytorch/torch/csrc/utils/tensor_numpy.cpp:143.)\n",
            "  return torch.from_numpy(parsed.astype(m[2], copy=False)).view(*s)\n"
          ],
          "name": "stderr"
        }
      ]
    },
    {
      "cell_type": "markdown",
      "metadata": {
        "id": "msGYVw8WE46I"
      },
      "source": [
        "# Let's perform some basic testing to ensure that the data is properly downloaded \n",
        "\n",
        "1. Set the print option\n",
        "2. The Number of training examples\n",
        "3. Print some labels in the trained data"
      ]
    },
    {
      "cell_type": "code",
      "metadata": {
        "id": "RDq2QBCQKOEW"
      },
      "source": [
        "torch.set_printoptions(linewidth=120)"
      ],
      "execution_count": null,
      "outputs": []
    },
    {
      "cell_type": "code",
      "metadata": {
        "colab": {
          "base_uri": "https://localhost:8080/"
        },
        "id": "AOrUU1FbKhqF",
        "outputId": "4f9bca65-b0e5-45e6-e393-ceaedbb213ef"
      },
      "source": [
        "len(train_set)"
      ],
      "execution_count": null,
      "outputs": [
        {
          "output_type": "execute_result",
          "data": {
            "text/plain": [
              "60000"
            ]
          },
          "metadata": {
            "tags": []
          },
          "execution_count": 5
        }
      ]
    },
    {
      "cell_type": "code",
      "metadata": {
        "colab": {
          "base_uri": "https://localhost:8080/"
        },
        "id": "TsXgxqKCKik4",
        "outputId": "2474043e-fe52-4df4-ef0b-2ca5ba415ea6"
      },
      "source": [
        "train_set.train_labels"
      ],
      "execution_count": null,
      "outputs": [
        {
          "output_type": "stream",
          "text": [
            "/usr/local/lib/python3.7/dist-packages/torchvision/datasets/mnist.py:54: UserWarning: train_labels has been renamed targets\n",
            "  warnings.warn(\"train_labels has been renamed targets\")\n"
          ],
          "name": "stderr"
        },
        {
          "output_type": "execute_result",
          "data": {
            "text/plain": [
              "tensor([5, 0, 4,  ..., 5, 6, 8])"
            ]
          },
          "metadata": {
            "tags": []
          },
          "execution_count": 6
        }
      ]
    },
    {
      "cell_type": "markdown",
      "metadata": {
        "id": "aLoyJ6PRFKBa"
      },
      "source": [
        "# Balanced Dataset\n",
        "\n",
        "It's very important to check and ensure that the dataset is balanced inorder to esnure that the outcome is not boased towards any specific class . "
      ]
    },
    {
      "cell_type": "code",
      "metadata": {
        "colab": {
          "base_uri": "https://localhost:8080/"
        },
        "id": "0g5mYWezKjqK",
        "outputId": "efa3d694-f863-4917-b75f-dfe745e857c6"
      },
      "source": [
        "train_set.train_labels.bincount() #frequency of each label, we have balanced class here"
      ],
      "execution_count": null,
      "outputs": [
        {
          "output_type": "stream",
          "text": [
            "/usr/local/lib/python3.7/dist-packages/torchvision/datasets/mnist.py:54: UserWarning: train_labels has been renamed targets\n",
            "  warnings.warn(\"train_labels has been renamed targets\")\n"
          ],
          "name": "stderr"
        },
        {
          "output_type": "execute_result",
          "data": {
            "text/plain": [
              "tensor([5923, 6742, 5958, 6131, 5842, 5421, 5918, 6265, 5851, 5949])"
            ]
          },
          "metadata": {
            "tags": []
          },
          "execution_count": 7
        }
      ]
    },
    {
      "cell_type": "markdown",
      "metadata": {
        "id": "4HJG6BajFqeI"
      },
      "source": [
        "# Print sample data \n",
        "\n"
      ]
    },
    {
      "cell_type": "code",
      "metadata": {
        "colab": {
          "base_uri": "https://localhost:8080/"
        },
        "id": "WtJ9iGAfK9Q6",
        "outputId": "41071b71-b7b7-447d-cec8-b9000c31fed1"
      },
      "source": [
        "sample = next(iter(train_set))\n",
        "\n",
        "len(sample)"
      ],
      "execution_count": null,
      "outputs": [
        {
          "output_type": "execute_result",
          "data": {
            "text/plain": [
              "2"
            ]
          },
          "metadata": {
            "tags": []
          },
          "execution_count": 8
        }
      ]
    },
    {
      "cell_type": "code",
      "metadata": {
        "id": "DYZOgKFjLB_e"
      },
      "source": [
        "image, label = sample"
      ],
      "execution_count": null,
      "outputs": []
    },
    {
      "cell_type": "code",
      "metadata": {
        "colab": {
          "base_uri": "https://localhost:8080/",
          "height": 282
        },
        "id": "GC4neLSDLEkw",
        "outputId": "3b89a588-a214-4f42-9ae2-6b2c4d26985a"
      },
      "source": [
        "import matplotlib.pyplot as plt\n",
        "plt.imshow(image.squeeze(), cmap='gray')\n",
        "print('label:', label)"
      ],
      "execution_count": null,
      "outputs": [
        {
          "output_type": "stream",
          "text": [
            "label: 5\n"
          ],
          "name": "stdout"
        },
        {
          "output_type": "display_data",
          "data": {
            "image/png": "[encoded data removed]",
            "text/plain": [
              "<Figure size 432x288 with 1 Axes>"
            ]
          },
          "metadata": {
            "tags": [],
            "needs_background": "light"
          }
        }
      ]
    },
    {
      "cell_type": "markdown",
      "metadata": {
        "id": "HNqNbHriLWc3"
      },
      "source": [
        "# Let's Build the Main Model Now \n",
        "\n",
        "1. Define the Network Class \n",
        "   This is the main class of the Program which defines the model structure and forward function \n",
        "\n",
        "2. Init Function -\n",
        "\n",
        "   i)  Includes 3 Convolution Layers ( 3 x3  with 2 layers and 5 x 5 with 1 layer)\n",
        "   Normally it's advisabel to use many 3 x3 layers until the image size is 11 x 11 . But as MNIST isa easy dataset so i have used variety of kernels to show the usabe. I have also not gone down till 11 x11 as it should anyway give > 97-98% accuracy \n",
        "\n",
        "   ii) Few Linear layers for (Fully connected) for MNIST dataste\n",
        "\n",
        "   iii) 2 Layers to process combined data (MNIST + Random Number)\n",
        "\n",
        "\n",
        "Forward Function\n",
        "--------------------\n",
        "1. MNIST Data Processing\n",
        "  \n",
        "  i) Conv1  - 3 x 3 kernel - Target Image size - 26 x 26\n",
        " \n",
        "  ii) Conv2 - 3 x 3 kernel - Target Image Size - 24 x 24\n",
        " \n",
        "  iii) Maxpool2D  - Stride -2 - Target Image size - 12 x 12\n",
        " \n",
        "  iv ) Conv 3 - 5 x 5 kernel -  Target Image Size - 8 x 8\n",
        "  \n",
        "  v)   Maxpool2D stride2 - Target Image size 4 x 4 \n",
        "\n",
        "  vi) Fully Connected layer FC1, FC2 \n",
        "  \n",
        "  vii) Output Layer\n",
        "\n",
        "2. Random Data + MNIST \n",
        "\n",
        "   i) Concatenate  the Random Number after FC2 Layer - Now the Targets are 20 \n",
        " \n",
        "   ii) Pass the data through FC3 Layer\n",
        "\n",
        "   iii) Output layer \n",
        "\n",
        "\n",
        "\n",
        "Below is the basic structure of a Model"
      ]
    },
    {
      "cell_type": "code",
      "metadata": {
        "id": "QTxoHJjhMSy2"
      },
      "source": [
        "import torch.nn as nn\n",
        "class Network(nn.Module):\n",
        "    def __init__(self):\n",
        "        super().__init__()\n",
        "        self.conv1 = nn.Conv2d(in_channels=1, out_channels=6, kernel_size=3)\n",
        "        self.conv2 = nn.Conv2d(in_channels=6, out_channels=12, kernel_size=3)\n",
        "        self.conv3 = nn.Conv2d(in_channels=12, out_channels=24, kernel_size=5)\n",
        "        \n",
        "        self.fc1 = nn.Linear(in_features=24 * 4 * 4, out_features=120)\n",
        "        self.fc2 = nn.Linear(in_features=120, out_features=60)\n",
        "        self.fc3 = nn.Linear(in_features=20, out_features=40)\n",
        "        self.out = nn.Linear(in_features=60, out_features=10)\n",
        "        self.out_rand = nn.Linear(in_features=40, out_features=20)\n",
        "\n",
        "\n",
        "    def forward(self, t, rand_no):\n",
        "        \n",
        "        t = t\n",
        "       \n",
        "\n",
        "        # (2) hidden conv layer\n",
        "        t = self.conv1(t)\n",
        "        t = F.relu(t)\n",
        "        \n",
        "        # (3) hidden conv layer\n",
        "        t = self.conv2(t)\n",
        "        t = F.relu(t)\n",
        "        \n",
        "        # Maxpooling \n",
        "        t = F.max_pool2d(t, kernel_size=2, stride=2)\n",
        "       \n",
        "\n",
        "        # (4) hidden conv layer\n",
        "        t = self.conv3(t)\n",
        "        t = F.relu(t)\n",
        "        \n",
        "        #Maxpooling\n",
        "        t = F.max_pool2d(t, kernel_size=2, stride=2)\n",
        "        \n",
        "\n",
        "        # (5) hidden linear layer\n",
        "        t = t.reshape(-1, 24 * 4 * 4)\n",
        "        t = self.fc1(t)\n",
        "        t = F.relu(t)\n",
        "        \n",
        "       #(6) hidden linear layer\n",
        "       \n",
        "        # for the random layer\n",
        "        t = self.fc2(t)\n",
        "        t = F.relu(t)\n",
        "\n",
        "\n",
        "        \n",
        "        # (7) output layer for MNIST Data\n",
        "        t = self.out(t)\n",
        "        \n",
        "\n",
        "        # Pre-processing For random number layer\n",
        "        rand_no = F.one_hot(rand_no, num_classes=10)\n",
        "        rand_no = torch.cat((t ,rand_no),dim=1)\n",
        "        \n",
        "        #(8) hidden linear layer\n",
        "        rand_no = self.fc3(rand_no)\n",
        "\n",
        "        # (9) output layer for MNIST Data + Random Data\n",
        "        rand_no = self.out_rand(rand_no)\n",
        "        \n",
        "        #t = F.softmax(t, dim=1)\n",
        "\n",
        "        return t, rand_no"
      ],
      "execution_count": null,
      "outputs": []
    },
    {
      "cell_type": "markdown",
      "metadata": {
        "id": "8vqiIKwqO1xq"
      },
      "source": [
        "# Training\n",
        "\n",
        "During the entire training process, we do as many epochs as necessary to reach our desired level of accuracy. With this, we have the following steps:\n",
        "\n",
        "Get batch from the training set.\n",
        "Pass batch to network.\n",
        "1. Calculate the loss (difference between the predicted values and the true values).\n",
        "2. Calculate the gradient of the loss function w.r.t the network's weights.\n",
        "\n",
        "3. Update the weights using the gradients to reduce the loss.\n",
        "\n",
        "4. Repeat steps 1-5 until one epoch is completed.\n",
        "\n",
        "5. Repeat steps 1-6 for as many epochs required to reach the minimum loss."
      ]
    },
    {
      "cell_type": "code",
      "metadata": {
        "colab": {
          "base_uri": "https://localhost:8080/"
        },
        "id": "9EMwngqxOzwj",
        "outputId": "af9f4e2c-18e2-428c-9328-7d63bc4043df"
      },
      "source": [
        "import torch.optim as optim\n",
        "\n",
        "torch.set_grad_enabled(True) "
      ],
      "execution_count": null,
      "outputs": [
        {
          "output_type": "execute_result",
          "data": {
            "text/plain": [
              "<torch.autograd.grad_mode.set_grad_enabled at 0x7f7a61586490>"
            ]
          },
          "metadata": {
            "tags": []
          },
          "execution_count": 19
        }
      ]
    },
    {
      "cell_type": "markdown",
      "metadata": {
        "id": "0sZbn-SlcZTM"
      },
      "source": [
        "# To find out number of correct prediction and return to the calling function"
      ]
    },
    {
      "cell_type": "code",
      "metadata": {
        "id": "7JsLm32S0_zo"
      },
      "source": [
        "def get_num_correct(preds, labels):\n",
        "  #print(preds.shape, labels.shape)\n",
        "  return preds.argmax(dim=1).eq(labels).sum().item()\n",
        " "
      ],
      "execution_count": null,
      "outputs": []
    },
    {
      "cell_type": "markdown",
      "metadata": {
        "id": "NkCrwKS_cjEa"
      },
      "source": [
        "Processing Steps\n",
        "====================\n",
        "1. Create a Training data loader\n",
        "2. define Batchsize, Optimizer and Learning Rate\n",
        "3. Run the Model for 100 Epochs\n",
        "4. Run the Model training by passing images and random numbers of same batch size\n",
        "5. Calculate Loss for MNIST and MNIST + Random Number\n",
        "6. Add both loss to find Total Loss\n",
        "7. Calculate Gradient\n",
        "8. Update weights\n",
        "9. Display Parameter \n",
        "\n",
        "\n",
        "\n",
        "\n",
        "\n"
      ]
    },
    {
      "cell_type": "code",
      "metadata": {
        "colab": {
          "base_uri": "https://localhost:8080/"
        },
        "id": "Ygzi9gyCQLoe",
        "outputId": "55f228ef-c073-41ec-d6ee-e8a87aba252a"
      },
      "source": [
        "network = Network()\n",
        "\n",
        "#      torch.utils.data.DataLoader` is an iterator which provides all these features:\n",
        "#    * Batching the data\n",
        "#    * Shuffling the data\n",
        "#    * Load the data in parallel using multiprocessing workers.\n",
        "\n",
        "train_loader = torch.utils.data.DataLoader(train_set, batch_size=100,shuffle=True)\n",
        "optimizer = optim.Adam(network.parameters(), lr=0.01)\n",
        "#i = 0\n",
        "\n",
        "for epoch in range(100):\n",
        "\n",
        "    total_loss = 0\n",
        "    total_correct = 0\n",
        "    total_correct_random = 0\n",
        "    total_incorrect = 0\n",
        "    total_incorrect_random = 0\n",
        "\n",
        "    \n",
        "    for batch in train_loader: # Get Batch\n",
        "        images, labels = batch \n",
        "        randno = torch.randint(low=0,high=10,size=(100,))\n",
        "        labels_random = randno+labels\n",
        "        preds,preds_random = network(images,randno) # Pass Batch\n",
        "        \n",
        "        loss = F.cross_entropy(preds, labels) # Calculate Loss\n",
        "        loss_random = F.cross_entropy(preds_random, labels_random)\n",
        "        loss = loss + loss_random\n",
        "        optimizer.zero_grad()\n",
        "        loss.backward() # Calculate Gradients\n",
        "        optimizer.step() # Update Weights\n",
        "\n",
        "        total_loss += loss.item()\n",
        "        total_correct += get_num_correct(preds, labels)\n",
        "\n",
        "        \n",
        "        total_correct_random += get_num_correct(preds_random, labels_random)\n",
        "        \n",
        "        \n",
        "        #total_incorrect += labels.shape[0] - total_correct\n",
        "        #accuracy_MNIST = total_correct/ (total_correct + total_incorrect )\n",
        "        # loss_random = F.cross_entropy(preds_random, labels_random)\n",
        "        # #loss = loss + loss_random\n",
        "        # optimizer.zero_grad()\n",
        "        # loss_random.backward() # Calculate Gradients of random\n",
        "        # optimizer.step() # Update Weights\n",
        "        # total_loss_random += loss_random.item()\n",
        "        #total_incorrect_random += labels_random.shape[0] - total_correct_random\n",
        "        #accuracy_random = total_correct_random/ (total_correct_random + total_incorrect_random )\n",
        "        #if i < 5:\n",
        "        # print('Total correct',total_correct )\n",
        "        # print('Total incorrect',total_incorrect )\n",
        "        # print('Accuracy of Batch ',total_correct/(total_correct+total_incorrect ) )\n",
        "        # print('Total Random correct',total_correct_random )\n",
        "        # print('Total Random incorrect',total_incorrect_random )\n",
        "        # print('Accuracy of Batch with random number ',total_correct_random/(total_correct_random+total_incorrect_random ) )\n",
        "\n",
        "        # #i+=1\n",
        "\n",
        "\n",
        "    print(\n",
        "        \"epoch\", epoch, \n",
        "        \"total_correct:\", total_correct, \n",
        "        \"total_correct_random:\", total_correct_random, \n",
        "        \"accuracy MNIST:\", total_correct/60000,\n",
        "        \"accuracy Random:\", total_correct_random/60000,\n",
        "        \"MNIST loss:\", loss,\n",
        "        \"Random loss:\", loss_random,\n",
        "        \"loss:\", total_loss\n",
        "    )\n",
        "\n",
        "    "
      ],
      "execution_count": null,
      "outputs": [
        {
          "output_type": "stream",
          "text": [
            "epoch 0 total_correct: 56576 total_correct_random: 30095 accuracy MNIST: 0.9429333333333333 accuracy Random: 0.5015833333333334 MNIST loss: tensor(1.2909, grad_fn=<AddBackward0>) Random loss: tensor(1.1349, grad_fn=<NllLossBackward>) loss: 904.2589326500893\n",
            "epoch 1 total_correct: 58870 total_correct_random: 43661 accuracy MNIST: 0.9811666666666666 accuracy Random: 0.7276833333333333 MNIST loss: tensor(0.6713, grad_fn=<AddBackward0>) Random loss: tensor(0.6479, grad_fn=<NllLossBackward>) loss: 542.3122572898865\n",
            "epoch 2 total_correct: 58997 total_correct_random: 47271 accuracy MNIST: 0.9832833333333333 accuracy Random: 0.78785 MNIST loss: tensor(0.7216, grad_fn=<AddBackward0>) Random loss: tensor(0.6619, grad_fn=<NllLossBackward>) loss: 469.3573463857174\n",
            "epoch 3 total_correct: 59061 total_correct_random: 50430 accuracy MNIST: 0.98435 accuracy Random: 0.8405 MNIST loss: tensor(0.4391, grad_fn=<AddBackward0>) Random loss: tensor(0.4332, grad_fn=<NllLossBackward>) loss: 425.2137030661106\n",
            "epoch 4 total_correct: 59143 total_correct_random: 51929 accuracy MNIST: 0.9857166666666667 accuracy Random: 0.8654833333333334 MNIST loss: tensor(0.5052, grad_fn=<AddBackward0>) Random loss: tensor(0.4599, grad_fn=<NllLossBackward>) loss: 383.5910303890705\n",
            "epoch 5 total_correct: 59169 total_correct_random: 52798 accuracy MNIST: 0.98615 accuracy Random: 0.8799666666666667 MNIST loss: tensor(0.6877, grad_fn=<AddBackward0>) Random loss: tensor(0.6264, grad_fn=<NllLossBackward>) loss: 365.43112352490425\n",
            "epoch 6 total_correct: 59271 total_correct_random: 53638 accuracy MNIST: 0.98785 accuracy Random: 0.8939666666666667 MNIST loss: tensor(0.4732, grad_fn=<AddBackward0>) Random loss: tensor(0.4609, grad_fn=<NllLossBackward>) loss: 331.3763326406479\n",
            "epoch 7 total_correct: 59300 total_correct_random: 54626 accuracy MNIST: 0.9883333333333333 accuracy Random: 0.9104333333333333 MNIST loss: tensor(0.3773, grad_fn=<AddBackward0>) Random loss: tensor(0.3679, grad_fn=<NllLossBackward>) loss: 309.6770860105753\n",
            "epoch 8 total_correct: 59226 total_correct_random: 54122 accuracy MNIST: 0.9871 accuracy Random: 0.9020333333333334 MNIST loss: tensor(0.2748, grad_fn=<AddBackward0>) Random loss: tensor(0.2636, grad_fn=<NllLossBackward>) loss: 336.48472583293915\n",
            "epoch 9 total_correct: 59333 total_correct_random: 55257 accuracy MNIST: 0.9888833333333333 accuracy Random: 0.92095 MNIST loss: tensor(0.2418, grad_fn=<AddBackward0>) Random loss: tensor(0.2351, grad_fn=<NllLossBackward>) loss: 299.1012740433216\n",
            "epoch 10 total_correct: 59384 total_correct_random: 55646 accuracy MNIST: 0.9897333333333334 accuracy Random: 0.9274333333333333 MNIST loss: tensor(0.3359, grad_fn=<AddBackward0>) Random loss: tensor(0.3221, grad_fn=<NllLossBackward>) loss: 280.72453236579895\n",
            "epoch 11 total_correct: 59417 total_correct_random: 55771 accuracy MNIST: 0.9902833333333333 accuracy Random: 0.9295166666666667 MNIST loss: tensor(0.9973, grad_fn=<AddBackward0>) Random loss: tensor(0.8748, grad_fn=<NllLossBackward>) loss: 275.30404879152775\n",
            "epoch 12 total_correct: 59385 total_correct_random: 55944 accuracy MNIST: 0.98975 accuracy Random: 0.9324 MNIST loss: tensor(1.1387, grad_fn=<AddBackward0>) Random loss: tensor(1.0480, grad_fn=<NllLossBackward>) loss: 273.18798422813416\n",
            "epoch 13 total_correct: 59490 total_correct_random: 56479 accuracy MNIST: 0.9915 accuracy Random: 0.9413166666666667 MNIST loss: tensor(0.1864, grad_fn=<AddBackward0>) Random loss: tensor(0.1770, grad_fn=<NllLossBackward>) loss: 235.57281102985144\n",
            "epoch 14 total_correct: 59443 total_correct_random: 56348 accuracy MNIST: 0.9907166666666667 accuracy Random: 0.9391333333333334 MNIST loss: tensor(0.6285, grad_fn=<AddBackward0>) Random loss: tensor(0.5830, grad_fn=<NllLossBackward>) loss: 241.90685886889696\n",
            "epoch 15 total_correct: 59436 total_correct_random: 55974 accuracy MNIST: 0.9906 accuracy Random: 0.9329 MNIST loss: tensor(0.6307, grad_fn=<AddBackward0>) Random loss: tensor(0.5554, grad_fn=<NllLossBackward>) loss: 270.76150542497635\n",
            "epoch 16 total_correct: 59504 total_correct_random: 56697 accuracy MNIST: 0.9917333333333334 accuracy Random: 0.94495 MNIST loss: tensor(0.5415, grad_fn=<AddBackward0>) Random loss: tensor(0.4425, grad_fn=<NllLossBackward>) loss: 235.0779888704419\n",
            "epoch 17 total_correct: 59494 total_correct_random: 56810 accuracy MNIST: 0.9915666666666667 accuracy Random: 0.9468333333333333 MNIST loss: tensor(0.4112, grad_fn=<AddBackward0>) Random loss: tensor(0.4010, grad_fn=<NllLossBackward>) loss: 218.4088299870491\n",
            "epoch 18 total_correct: 59380 total_correct_random: 55850 accuracy MNIST: 0.9896666666666667 accuracy Random: 0.9308333333333333 MNIST loss: tensor(0.1485, grad_fn=<AddBackward0>) Random loss: tensor(0.1424, grad_fn=<NllLossBackward>) loss: 269.6772050783038\n",
            "epoch 19 total_correct: 59452 total_correct_random: 56856 accuracy MNIST: 0.9908666666666667 accuracy Random: 0.9476 MNIST loss: tensor(0.2532, grad_fn=<AddBackward0>) Random loss: tensor(0.2464, grad_fn=<NllLossBackward>) loss: 233.32338605821133\n",
            "epoch 20 total_correct: 59467 total_correct_random: 56694 accuracy MNIST: 0.9911166666666666 accuracy Random: 0.9449 MNIST loss: tensor(0.4968, grad_fn=<AddBackward0>) Random loss: tensor(0.4435, grad_fn=<NllLossBackward>) loss: 245.53073650598526\n",
            "epoch 21 total_correct: 59497 total_correct_random: 57142 accuracy MNIST: 0.9916166666666667 accuracy Random: 0.9523666666666667 MNIST loss: tensor(0.4103, grad_fn=<AddBackward0>) Random loss: tensor(0.3862, grad_fn=<NllLossBackward>) loss: 214.3891595751047\n",
            "epoch 22 total_correct: 59517 total_correct_random: 56948 accuracy MNIST: 0.99195 accuracy Random: 0.9491333333333334 MNIST loss: tensor(0.2573, grad_fn=<AddBackward0>) Random loss: tensor(0.2357, grad_fn=<NllLossBackward>) loss: 210.81576386094093\n",
            "epoch 23 total_correct: 59492 total_correct_random: 56813 accuracy MNIST: 0.9915333333333334 accuracy Random: 0.9468833333333333 MNIST loss: tensor(0.2328, grad_fn=<AddBackward0>) Random loss: tensor(0.2207, grad_fn=<NllLossBackward>) loss: 228.44596610963345\n",
            "epoch 24 total_correct: 59408 total_correct_random: 56220 accuracy MNIST: 0.9901333333333333 accuracy Random: 0.937 MNIST loss: tensor(1.6196, grad_fn=<AddBackward0>) Random loss: tensor(1.4450, grad_fn=<NllLossBackward>) loss: 254.3879179507494\n",
            "epoch 25 total_correct: 59549 total_correct_random: 57508 accuracy MNIST: 0.9924833333333334 accuracy Random: 0.9584666666666667 MNIST loss: tensor(0.4693, grad_fn=<AddBackward0>) Random loss: tensor(0.4552, grad_fn=<NllLossBackward>) loss: 191.6429614648223\n",
            "epoch 26 total_correct: 59591 total_correct_random: 57419 accuracy MNIST: 0.9931833333333333 accuracy Random: 0.9569833333333333 MNIST loss: tensor(0.2482, grad_fn=<AddBackward0>) Random loss: tensor(0.2186, grad_fn=<NllLossBackward>) loss: 183.35678812861443\n",
            "epoch 27 total_correct: 59464 total_correct_random: 56724 accuracy MNIST: 0.9910666666666667 accuracy Random: 0.9454 MNIST loss: tensor(0.3211, grad_fn=<AddBackward0>) Random loss: tensor(0.3108, grad_fn=<NllLossBackward>) loss: 243.71586656570435\n",
            "epoch 28 total_correct: 59606 total_correct_random: 57939 accuracy MNIST: 0.9934333333333333 accuracy Random: 0.96565 MNIST loss: tensor(0.0941, grad_fn=<AddBackward0>) Random loss: tensor(0.0910, grad_fn=<NllLossBackward>) loss: 160.8853341601789\n",
            "epoch 29 total_correct: 59504 total_correct_random: 56817 accuracy MNIST: 0.9917333333333334 accuracy Random: 0.94695 MNIST loss: tensor(0.0914, grad_fn=<AddBackward0>) Random loss: tensor(0.0892, grad_fn=<NllLossBackward>) loss: 230.8759422376752\n",
            "epoch 30 total_correct: 59555 total_correct_random: 57407 accuracy MNIST: 0.9925833333333334 accuracy Random: 0.9567833333333333 MNIST loss: tensor(0.1707, grad_fn=<AddBackward0>) Random loss: tensor(0.1670, grad_fn=<NllLossBackward>) loss: 195.8848296776414\n",
            "epoch 31 total_correct: 59574 total_correct_random: 57611 accuracy MNIST: 0.9929 accuracy Random: 0.9601833333333334 MNIST loss: tensor(0.2003, grad_fn=<AddBackward0>) Random loss: tensor(0.1903, grad_fn=<NllLossBackward>) loss: 181.0851672925055\n",
            "epoch 32 total_correct: 59517 total_correct_random: 56924 accuracy MNIST: 0.99195 accuracy Random: 0.9487333333333333 MNIST loss: tensor(0.7989, grad_fn=<AddBackward0>) Random loss: tensor(0.7071, grad_fn=<NllLossBackward>) loss: 209.06537578254938\n",
            "epoch 33 total_correct: 59558 total_correct_random: 57255 accuracy MNIST: 0.9926333333333334 accuracy Random: 0.95425 MNIST loss: tensor(0.1251, grad_fn=<AddBackward0>) Random loss: tensor(0.1188, grad_fn=<NllLossBackward>) loss: 194.44462229683995\n",
            "epoch 34 total_correct: 59576 total_correct_random: 57390 accuracy MNIST: 0.9929333333333333 accuracy Random: 0.9565 MNIST loss: tensor(0.2065, grad_fn=<AddBackward0>) Random loss: tensor(0.2004, grad_fn=<NllLossBackward>) loss: 198.464282553643\n",
            "epoch 35 total_correct: 59569 total_correct_random: 57860 accuracy MNIST: 0.9928166666666667 accuracy Random: 0.9643333333333334 MNIST loss: tensor(0.1978, grad_fn=<AddBackward0>) Random loss: tensor(0.1839, grad_fn=<NllLossBackward>) loss: 168.62843507155776\n",
            "epoch 36 total_correct: 59557 total_correct_random: 57575 accuracy MNIST: 0.9926166666666667 accuracy Random: 0.9595833333333333 MNIST loss: tensor(0.2220, grad_fn=<AddBackward0>) Random loss: tensor(0.2103, grad_fn=<NllLossBackward>) loss: 186.1130678653717\n",
            "epoch 37 total_correct: 59593 total_correct_random: 57574 accuracy MNIST: 0.9932166666666666 accuracy Random: 0.9595666666666667 MNIST loss: tensor(0.6239, grad_fn=<AddBackward0>) Random loss: tensor(0.5468, grad_fn=<NllLossBackward>) loss: 181.13920920342207\n",
            "epoch 38 total_correct: 59558 total_correct_random: 57419 accuracy MNIST: 0.9926333333333334 accuracy Random: 0.9569833333333333 MNIST loss: tensor(0.1624, grad_fn=<AddBackward0>) Random loss: tensor(0.1522, grad_fn=<NllLossBackward>) loss: 194.95229133963585\n",
            "epoch 39 total_correct: 59538 total_correct_random: 57166 accuracy MNIST: 0.9923 accuracy Random: 0.9527666666666667 MNIST loss: tensor(0.2146, grad_fn=<AddBackward0>) Random loss: tensor(0.1975, grad_fn=<NllLossBackward>) loss: 208.9301493614912\n",
            "epoch 40 total_correct: 59501 total_correct_random: 56635 accuracy MNIST: 0.9916833333333334 accuracy Random: 0.9439166666666666 MNIST loss: tensor(0.1634, grad_fn=<AddBackward0>) Random loss: tensor(0.1540, grad_fn=<NllLossBackward>) loss: 230.72865177318454\n",
            "epoch 41 total_correct: 59642 total_correct_random: 58159 accuracy MNIST: 0.9940333333333333 accuracy Random: 0.9693166666666667 MNIST loss: tensor(0.1495, grad_fn=<AddBackward0>) Random loss: tensor(0.1230, grad_fn=<NllLossBackward>) loss: 157.94555763155222\n",
            "epoch 42 total_correct: 59490 total_correct_random: 56650 accuracy MNIST: 0.9915 accuracy Random: 0.9441666666666667 MNIST loss: tensor(0.6392, grad_fn=<AddBackward0>) Random loss: tensor(0.5996, grad_fn=<NllLossBackward>) loss: 234.62385862320662\n",
            "epoch 43 total_correct: 59481 total_correct_random: 57522 accuracy MNIST: 0.99135 accuracy Random: 0.9587 MNIST loss: tensor(0.5914, grad_fn=<AddBackward0>) Random loss: tensor(0.4827, grad_fn=<NllLossBackward>) loss: 218.754002712667\n",
            "epoch 44 total_correct: 59620 total_correct_random: 58145 accuracy MNIST: 0.9936666666666667 accuracy Random: 0.9690833333333333 MNIST loss: tensor(0.2609, grad_fn=<AddBackward0>) Random loss: tensor(0.2270, grad_fn=<NllLossBackward>) loss: 155.5242714844644\n",
            "epoch 45 total_correct: 59629 total_correct_random: 57857 accuracy MNIST: 0.9938166666666667 accuracy Random: 0.9642833333333334 MNIST loss: tensor(0.1438, grad_fn=<AddBackward0>) Random loss: tensor(0.1405, grad_fn=<NllLossBackward>) loss: 162.87630765885115\n",
            "epoch 46 total_correct: 59496 total_correct_random: 56807 accuracy MNIST: 0.9916 accuracy Random: 0.9467833333333333 MNIST loss: tensor(1.0409, grad_fn=<AddBackward0>) Random loss: tensor(0.9810, grad_fn=<NllLossBackward>) loss: 234.0267186202109\n",
            "epoch 47 total_correct: 59581 total_correct_random: 57831 accuracy MNIST: 0.9930166666666667 accuracy Random: 0.96385 MNIST loss: tensor(0.3879, grad_fn=<AddBackward0>) Random loss: tensor(0.3772, grad_fn=<NllLossBackward>) loss: 174.07564815878868\n",
            "epoch 48 total_correct: 59574 total_correct_random: 57517 accuracy MNIST: 0.9929 accuracy Random: 0.9586166666666667 MNIST loss: tensor(0.4574, grad_fn=<AddBackward0>) Random loss: tensor(0.4336, grad_fn=<NllLossBackward>) loss: 184.81249432638288\n",
            "epoch 49 total_correct: 59567 total_correct_random: 57616 accuracy MNIST: 0.9927833333333334 accuracy Random: 0.9602666666666667 MNIST loss: tensor(0.1634, grad_fn=<AddBackward0>) Random loss: tensor(0.1298, grad_fn=<NllLossBackward>) loss: 183.9574761427939\n",
            "epoch 50 total_correct: 59553 total_correct_random: 57355 accuracy MNIST: 0.99255 accuracy Random: 0.9559166666666666 MNIST loss: tensor(0.1702, grad_fn=<AddBackward0>) Random loss: tensor(0.1639, grad_fn=<NllLossBackward>) loss: 199.5876268260181\n",
            "epoch 51 total_correct: 59657 total_correct_random: 57996 accuracy MNIST: 0.9942833333333333 accuracy Random: 0.9666 MNIST loss: tensor(0.2004, grad_fn=<AddBackward0>) Random loss: tensor(0.1709, grad_fn=<NllLossBackward>) loss: 160.24087093397975\n",
            "epoch 52 total_correct: 59624 total_correct_random: 58243 accuracy MNIST: 0.9937333333333334 accuracy Random: 0.9707166666666667 MNIST loss: tensor(0.1234, grad_fn=<AddBackward0>) Random loss: tensor(0.1190, grad_fn=<NllLossBackward>) loss: 158.90829880163074\n",
            "epoch 53 total_correct: 59576 total_correct_random: 57565 accuracy MNIST: 0.9929333333333333 accuracy Random: 0.9594166666666667 MNIST loss: tensor(0.1047, grad_fn=<AddBackward0>) Random loss: tensor(0.0903, grad_fn=<NllLossBackward>) loss: 190.3608343563974\n",
            "epoch 54 total_correct: 59538 total_correct_random: 57473 accuracy MNIST: 0.9923 accuracy Random: 0.9578833333333333 MNIST loss: tensor(0.1613, grad_fn=<AddBackward0>) Random loss: tensor(0.1438, grad_fn=<NllLossBackward>) loss: 183.79732344672084\n",
            "epoch 55 total_correct: 59651 total_correct_random: 58159 accuracy MNIST: 0.9941833333333333 accuracy Random: 0.9693166666666667 MNIST loss: tensor(0.2144, grad_fn=<AddBackward0>) Random loss: tensor(0.1611, grad_fn=<NllLossBackward>) loss: 138.63653206452727\n",
            "epoch 56 total_correct: 59547 total_correct_random: 57457 accuracy MNIST: 0.99245 accuracy Random: 0.9576166666666667 MNIST loss: tensor(0.6488, grad_fn=<AddBackward0>) Random loss: tensor(0.5999, grad_fn=<NllLossBackward>) loss: 192.3466561883688\n",
            "epoch 57 total_correct: 59521 total_correct_random: 57326 accuracy MNIST: 0.9920166666666667 accuracy Random: 0.9554333333333334 MNIST loss: tensor(0.3097, grad_fn=<AddBackward0>) Random loss: tensor(0.3054, grad_fn=<NllLossBackward>) loss: 212.77559203282\n",
            "epoch 58 total_correct: 59648 total_correct_random: 58182 accuracy MNIST: 0.9941333333333333 accuracy Random: 0.9697 MNIST loss: tensor(0.1051, grad_fn=<AddBackward0>) Random loss: tensor(0.1017, grad_fn=<NllLossBackward>) loss: 142.54425727203488\n",
            "epoch 59 total_correct: 59652 total_correct_random: 58233 accuracy MNIST: 0.9942 accuracy Random: 0.97055 MNIST loss: tensor(0.4431, grad_fn=<AddBackward0>) Random loss: tensor(0.4218, grad_fn=<NllLossBackward>) loss: 142.67507018893957\n",
            "epoch 60 total_correct: 59428 total_correct_random: 56510 accuracy MNIST: 0.9904666666666667 accuracy Random: 0.9418333333333333 MNIST loss: tensor(0.1833, grad_fn=<AddBackward0>) Random loss: tensor(0.1620, grad_fn=<NllLossBackward>) loss: 286.5296733491123\n",
            "epoch 61 total_correct: 59662 total_correct_random: 58401 accuracy MNIST: 0.9943666666666666 accuracy Random: 0.97335 MNIST loss: tensor(2.3996, grad_fn=<AddBackward0>) Random loss: tensor(2.1328, grad_fn=<NllLossBackward>) loss: 139.5294994339347\n",
            "epoch 62 total_correct: 59648 total_correct_random: 58088 accuracy MNIST: 0.9941333333333333 accuracy Random: 0.9681333333333333 MNIST loss: tensor(0.2270, grad_fn=<AddBackward0>) Random loss: tensor(0.1871, grad_fn=<NllLossBackward>) loss: 146.2106150649488\n",
            "epoch 63 total_correct: 59625 total_correct_random: 58075 accuracy MNIST: 0.99375 accuracy Random: 0.9679166666666666 MNIST loss: tensor(0.2016, grad_fn=<AddBackward0>) Random loss: tensor(0.1436, grad_fn=<NllLossBackward>) loss: 154.7254868708551\n",
            "epoch 64 total_correct: 59602 total_correct_random: 58021 accuracy MNIST: 0.9933666666666666 accuracy Random: 0.9670166666666666 MNIST loss: tensor(0.2939, grad_fn=<AddBackward0>) Random loss: tensor(0.2882, grad_fn=<NllLossBackward>) loss: 160.15674129500985\n",
            "epoch 65 total_correct: 59479 total_correct_random: 56937 accuracy MNIST: 0.9913166666666666 accuracy Random: 0.94895 MNIST loss: tensor(0.0926, grad_fn=<AddBackward0>) Random loss: tensor(0.0877, grad_fn=<NllLossBackward>) loss: 241.05523711442947\n",
            "epoch 66 total_correct: 59575 total_correct_random: 57868 accuracy MNIST: 0.9929166666666667 accuracy Random: 0.9644666666666667 MNIST loss: tensor(0.3972, grad_fn=<AddBackward0>) Random loss: tensor(0.3549, grad_fn=<NllLossBackward>) loss: 170.8379732966423\n",
            "epoch 67 total_correct: 59596 total_correct_random: 57690 accuracy MNIST: 0.9932666666666666 accuracy Random: 0.9615 MNIST loss: tensor(0.3140, grad_fn=<AddBackward0>) Random loss: tensor(0.2781, grad_fn=<NllLossBackward>) loss: 186.35912967845798\n",
            "epoch 68 total_correct: 59670 total_correct_random: 58528 accuracy MNIST: 0.9945 accuracy Random: 0.9754666666666667 MNIST loss: tensor(0.1232, grad_fn=<AddBackward0>) Random loss: tensor(0.1177, grad_fn=<NllLossBackward>) loss: 131.16171427443624\n",
            "epoch 69 total_correct: 59625 total_correct_random: 58070 accuracy MNIST: 0.99375 accuracy Random: 0.9678333333333333 MNIST loss: tensor(0.3819, grad_fn=<AddBackward0>) Random loss: tensor(0.3365, grad_fn=<NllLossBackward>) loss: 150.6917984187603\n",
            "epoch 70 total_correct: 59623 total_correct_random: 57934 accuracy MNIST: 0.9937166666666667 accuracy Random: 0.9655666666666667 MNIST loss: tensor(0.3539, grad_fn=<AddBackward0>) Random loss: tensor(0.3141, grad_fn=<NllLossBackward>) loss: 164.19677448272705\n",
            "epoch 71 total_correct: 59562 total_correct_random: 57903 accuracy MNIST: 0.9927 accuracy Random: 0.96505 MNIST loss: tensor(1.6048, grad_fn=<AddBackward0>) Random loss: tensor(1.4963, grad_fn=<NllLossBackward>) loss: 187.81351060792804\n",
            "epoch 72 total_correct: 59588 total_correct_random: 57777 accuracy MNIST: 0.9931333333333333 accuracy Random: 0.96295 MNIST loss: tensor(0.1816, grad_fn=<AddBackward0>) Random loss: tensor(0.1773, grad_fn=<NllLossBackward>) loss: 186.27474437654018\n",
            "epoch 73 total_correct: 59562 total_correct_random: 57554 accuracy MNIST: 0.9927 accuracy Random: 0.9592333333333334 MNIST loss: tensor(0.5303, grad_fn=<AddBackward0>) Random loss: tensor(0.4484, grad_fn=<NllLossBackward>) loss: 180.12420660629869\n",
            "epoch 74 total_correct: 59701 total_correct_random: 58922 accuracy MNIST: 0.9950166666666667 accuracy Random: 0.9820333333333333 MNIST loss: tensor(0.1556, grad_fn=<AddBackward0>) Random loss: tensor(0.1500, grad_fn=<NllLossBackward>) loss: 108.53506952524185\n",
            "epoch 75 total_correct: 59676 total_correct_random: 58617 accuracy MNIST: 0.9946 accuracy Random: 0.97695 MNIST loss: tensor(0.1928, grad_fn=<AddBackward0>) Random loss: tensor(0.1854, grad_fn=<NllLossBackward>) loss: 118.46057333983481\n",
            "epoch 76 total_correct: 59551 total_correct_random: 57396 accuracy MNIST: 0.9925166666666667 accuracy Random: 0.9566 MNIST loss: tensor(0.1368, grad_fn=<AddBackward0>) Random loss: tensor(0.1323, grad_fn=<NllLossBackward>) loss: 199.49094279110432\n",
            "epoch 77 total_correct: 59567 total_correct_random: 57958 accuracy MNIST: 0.9927833333333334 accuracy Random: 0.9659666666666666 MNIST loss: tensor(0.4340, grad_fn=<AddBackward0>) Random loss: tensor(0.4322, grad_fn=<NllLossBackward>) loss: 189.61723599210382\n",
            "epoch 78 total_correct: 59596 total_correct_random: 57992 accuracy MNIST: 0.9932666666666666 accuracy Random: 0.9665333333333334 MNIST loss: tensor(0.5389, grad_fn=<AddBackward0>) Random loss: tensor(0.5068, grad_fn=<NllLossBackward>) loss: 170.1229116730392\n",
            "epoch 79 total_correct: 59656 total_correct_random: 58554 accuracy MNIST: 0.9942666666666666 accuracy Random: 0.9759 MNIST loss: tensor(0.1562, grad_fn=<AddBackward0>) Random loss: tensor(0.1308, grad_fn=<NllLossBackward>) loss: 134.90055464953184\n",
            "epoch 80 total_correct: 59644 total_correct_random: 58370 accuracy MNIST: 0.9940666666666667 accuracy Random: 0.9728333333333333 MNIST loss: tensor(0.0880, grad_fn=<AddBackward0>) Random loss: tensor(0.0851, grad_fn=<NllLossBackward>) loss: 140.9102348871529\n",
            "epoch 81 total_correct: 59614 total_correct_random: 58028 accuracy MNIST: 0.9935666666666667 accuracy Random: 0.9671333333333333 MNIST loss: tensor(0.2087, grad_fn=<AddBackward0>) Random loss: tensor(0.1839, grad_fn=<NllLossBackward>) loss: 158.59573034197092\n",
            "epoch 82 total_correct: 59503 total_correct_random: 57540 accuracy MNIST: 0.9917166666666667 accuracy Random: 0.959 MNIST loss: tensor(1.6278, grad_fn=<AddBackward0>) Random loss: tensor(1.6003, grad_fn=<NllLossBackward>) loss: 205.41930481046438\n",
            "epoch 83 total_correct: 59460 total_correct_random: 57497 accuracy MNIST: 0.991 accuracy Random: 0.9582833333333334 MNIST loss: tensor(0.5087, grad_fn=<AddBackward0>) Random loss: tensor(0.4678, grad_fn=<NllLossBackward>) loss: 222.25475028529763\n",
            "epoch 84 total_correct: 59528 total_correct_random: 57996 accuracy MNIST: 0.9921333333333333 accuracy Random: 0.9666 MNIST loss: tensor(0.0709, grad_fn=<AddBackward0>) Random loss: tensor(0.0672, grad_fn=<NllLossBackward>) loss: 176.92582142353058\n",
            "epoch 85 total_correct: 59665 total_correct_random: 58758 accuracy MNIST: 0.9944166666666666 accuracy Random: 0.9793 MNIST loss: tensor(0.2391, grad_fn=<AddBackward0>) Random loss: tensor(0.1973, grad_fn=<NllLossBackward>) loss: 124.02526810206473\n",
            "epoch 86 total_correct: 59557 total_correct_random: 57625 accuracy MNIST: 0.9926166666666667 accuracy Random: 0.9604166666666667 MNIST loss: tensor(0.0788, grad_fn=<AddBackward0>) Random loss: tensor(0.0759, grad_fn=<NllLossBackward>) loss: 191.1482567563653\n",
            "epoch 87 total_correct: 59586 total_correct_random: 57882 accuracy MNIST: 0.9931 accuracy Random: 0.9647 MNIST loss: tensor(0.3069, grad_fn=<AddBackward0>) Random loss: tensor(0.2582, grad_fn=<NllLossBackward>) loss: 177.84798289649189\n",
            "epoch 88 total_correct: 59619 total_correct_random: 58415 accuracy MNIST: 0.99365 accuracy Random: 0.9735833333333334 MNIST loss: tensor(0.3782, grad_fn=<AddBackward0>) Random loss: tensor(0.3253, grad_fn=<NllLossBackward>) loss: 156.49878624081612\n",
            "epoch 89 total_correct: 59536 total_correct_random: 57508 accuracy MNIST: 0.9922666666666666 accuracy Random: 0.9584666666666667 MNIST loss: tensor(0.1281, grad_fn=<AddBackward0>) Random loss: tensor(0.1091, grad_fn=<NllLossBackward>) loss: 195.75185745581985\n",
            "epoch 90 total_correct: 59580 total_correct_random: 58333 accuracy MNIST: 0.993 accuracy Random: 0.9722166666666666 MNIST loss: tensor(0.0738, grad_fn=<AddBackward0>) Random loss: tensor(0.0701, grad_fn=<NllLossBackward>) loss: 159.76876978576183\n",
            "epoch 91 total_correct: 59622 total_correct_random: 58143 accuracy MNIST: 0.9937 accuracy Random: 0.96905 MNIST loss: tensor(0.1035, grad_fn=<AddBackward0>) Random loss: tensor(0.1004, grad_fn=<NllLossBackward>) loss: 155.84229557588696\n",
            "epoch 92 total_correct: 59603 total_correct_random: 57857 accuracy MNIST: 0.9933833333333333 accuracy Random: 0.9642833333333334 MNIST loss: tensor(0.4795, grad_fn=<AddBackward0>) Random loss: tensor(0.4391, grad_fn=<NllLossBackward>) loss: 165.40886632725596\n",
            "epoch 93 total_correct: 59485 total_correct_random: 58029 accuracy MNIST: 0.9914166666666666 accuracy Random: 0.96715 MNIST loss: tensor(0.1632, grad_fn=<AddBackward0>) Random loss: tensor(0.1394, grad_fn=<NllLossBackward>) loss: 194.67191554233432\n",
            "epoch 94 total_correct: 59595 total_correct_random: 57756 accuracy MNIST: 0.99325 accuracy Random: 0.9626 MNIST loss: tensor(0.1034, grad_fn=<AddBackward0>) Random loss: tensor(0.0936, grad_fn=<NllLossBackward>) loss: 189.9406785108149\n",
            "epoch 95 total_correct: 59477 total_correct_random: 57955 accuracy MNIST: 0.9912833333333333 accuracy Random: 0.9659166666666666 MNIST loss: tensor(0.0938, grad_fn=<AddBackward0>) Random loss: tensor(0.0786, grad_fn=<NllLossBackward>) loss: 189.21119545027614\n",
            "epoch 96 total_correct: 59605 total_correct_random: 58046 accuracy MNIST: 0.9934166666666666 accuracy Random: 0.9674333333333334 MNIST loss: tensor(0.1454, grad_fn=<AddBackward0>) Random loss: tensor(0.1406, grad_fn=<NllLossBackward>) loss: 156.38837914913893\n",
            "epoch 97 total_correct: 59583 total_correct_random: 58018 accuracy MNIST: 0.99305 accuracy Random: 0.9669666666666666 MNIST loss: tensor(0.0478, grad_fn=<AddBackward0>) Random loss: tensor(0.0449, grad_fn=<NllLossBackward>) loss: 171.86545147374272\n",
            "epoch 98 total_correct: 59560 total_correct_random: 58164 accuracy MNIST: 0.9926666666666667 accuracy Random: 0.9694 MNIST loss: tensor(0.4494, grad_fn=<AddBackward0>) Random loss: tensor(0.4041, grad_fn=<NllLossBackward>) loss: 171.3374018650502\n",
            "epoch 99 total_correct: 59442 total_correct_random: 57380 accuracy MNIST: 0.9907 accuracy Random: 0.9563333333333334 MNIST loss: tensor(1.9614, grad_fn=<AddBackward0>) Random loss: tensor(1.8957, grad_fn=<NllLossBackward>) loss: 227.91106520965695\n"
          ],
          "name": "stdout"
        }
      ]
    },
    {
      "cell_type": "markdown",
      "metadata": {
        "id": "nnQA4SBDe4C7"
      },
      "source": [
        "Observations\n",
        "================\n",
        "------------------\n",
        "\n",
        "\n",
        "1. Tried to concatenate the Random Numbers at various steps \n",
        "\n",
        "i) At the beginning\n",
        "ii) At the FC1 Layer\n",
        "iii) FC2 Layer \n",
        "\n",
        "All these steps threw higher loss as we had to add the data as one value\n",
        "\n",
        "Then tried to add the value once the MNIST data reduced to 10 values making it 20 \n",
        "\n",
        "The loss seems to reduce with decent accuracy \n",
        "\n",
        "2. Updated 5 x5 with 3x3 and many layers\n",
        "\n",
        "Didnot see any significant improvement on the accuracy as MNIST data is very simple and any model can get upto 98% accuracy\n",
        "\n",
        "3. Modified Data loader and tried but it didnot give any better accuracy \n",
        "\n",
        "4. One hot encoding is the only one to be tried. Could not find time to try other things . Hope to try in future\n",
        "-------------------------------------------"
      ]
    },
    {
      "cell_type": "code",
      "metadata": {
        "id": "mpzqArc2kylX"
      },
      "source": [
        ""
      ],
      "execution_count": null,
      "outputs": []
    }
  ]
}