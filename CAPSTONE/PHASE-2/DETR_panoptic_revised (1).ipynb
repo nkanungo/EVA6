{
  "nbformat": 4,
  "nbformat_minor": 0,
  "metadata": {
    "colab": {
      "name": "DETR_panoptic_revised.ipynb",
      "provenance": []
    },
    "kernelspec": {
      "display_name": "Python 3",
      "name": "python3"
    },
    "widgets": {
      "application/vnd.jupyter.widget-state+json": {
        "576e2e1201964e26bcbdfd3c63c6583d": {
          "model_module": "@jupyter-widgets/controls",
          "model_name": "HBoxModel",
          "model_module_version": "1.5.0",
          "state": {
            "_view_name": "HBoxView",
            "_dom_classes": [],
            "_model_name": "HBoxModel",
            "_view_module": "@jupyter-widgets/controls",
            "_model_module_version": "1.5.0",
            "_view_count": null,
            "_view_module_version": "1.5.0",
            "box_style": "",
            "layout": "IPY_MODEL_3f5d489882384338b1d07449bec85cf1",
            "_model_module": "@jupyter-widgets/controls",
            "children": [
              "IPY_MODEL_1404fe30ed114f2b8d19dec15d97b6e0",
              "IPY_MODEL_00e08d4606394339b2d33b77ac453d17",
              "IPY_MODEL_3cd60cc3fa174f25a47b5008dcb14882"
            ]
          }
        },
        "3f5d489882384338b1d07449bec85cf1": {
          "model_module": "@jupyter-widgets/base",
          "model_name": "LayoutModel",
          "model_module_version": "1.2.0",
          "state": {
            "_view_name": "LayoutView",
            "grid_template_rows": null,
            "right": null,
            "justify_content": null,
            "_view_module": "@jupyter-widgets/base",
            "overflow": null,
            "_model_module_version": "1.2.0",
            "_view_count": null,
            "flex_flow": null,
            "width": null,
            "min_width": null,
            "border": null,
            "align_items": null,
            "bottom": null,
            "_model_module": "@jupyter-widgets/base",
            "top": null,
            "grid_column": null,
            "overflow_y": null,
            "overflow_x": null,
            "grid_auto_flow": null,
            "grid_area": null,
            "grid_template_columns": null,
            "flex": null,
            "_model_name": "LayoutModel",
            "justify_items": null,
            "grid_row": null,
            "max_height": null,
            "align_content": null,
            "visibility": null,
            "align_self": null,
            "height": null,
            "min_height": null,
            "padding": null,
            "grid_auto_rows": null,
            "grid_gap": null,
            "max_width": null,
            "order": null,
            "_view_module_version": "1.2.0",
            "grid_template_areas": null,
            "object_position": null,
            "object_fit": null,
            "grid_auto_columns": null,
            "margin": null,
            "display": null,
            "left": null
          }
        },
        "1404fe30ed114f2b8d19dec15d97b6e0": {
          "model_module": "@jupyter-widgets/controls",
          "model_name": "HTMLModel",
          "model_module_version": "1.5.0",
          "state": {
            "_view_name": "HTMLView",
            "style": "IPY_MODEL_f743dde2d8034a239548cd2854a46eb5",
            "_dom_classes": [],
            "description": "",
            "_model_name": "HTMLModel",
            "placeholder": "​",
            "_view_module": "@jupyter-widgets/controls",
            "_model_module_version": "1.5.0",
            "value": "100%",
            "_view_count": null,
            "_view_module_version": "1.5.0",
            "description_tooltip": null,
            "_model_module": "@jupyter-widgets/controls",
            "layout": "IPY_MODEL_0e2eaee131a94474ab8de9d328307fb7"
          }
        },
        "00e08d4606394339b2d33b77ac453d17": {
          "model_module": "@jupyter-widgets/controls",
          "model_name": "FloatProgressModel",
          "model_module_version": "1.5.0",
          "state": {
            "_view_name": "ProgressView",
            "style": "IPY_MODEL_f6ad9c7cb0c041cc82c64ad22a0cf6bf",
            "_dom_classes": [],
            "description": "",
            "_model_name": "FloatProgressModel",
            "bar_style": "success",
            "max": 178793939,
            "_view_module": "@jupyter-widgets/controls",
            "_model_module_version": "1.5.0",
            "value": 178793939,
            "_view_count": null,
            "_view_module_version": "1.5.0",
            "orientation": "horizontal",
            "min": 0,
            "description_tooltip": null,
            "_model_module": "@jupyter-widgets/controls",
            "layout": "IPY_MODEL_62c0207901da4db591c27d05f6f82de2"
          }
        },
        "3cd60cc3fa174f25a47b5008dcb14882": {
          "model_module": "@jupyter-widgets/controls",
          "model_name": "HTMLModel",
          "model_module_version": "1.5.0",
          "state": {
            "_view_name": "HTMLView",
            "style": "IPY_MODEL_124c25c29df648ec98c9557a72422954",
            "_dom_classes": [],
            "description": "",
            "_model_name": "HTMLModel",
            "placeholder": "​",
            "_view_module": "@jupyter-widgets/controls",
            "_model_module_version": "1.5.0",
            "value": " 171M/171M [00:02&lt;00:00, 75.1MB/s]",
            "_view_count": null,
            "_view_module_version": "1.5.0",
            "description_tooltip": null,
            "_model_module": "@jupyter-widgets/controls",
            "layout": "IPY_MODEL_9de374292a514f89bcb300977970191d"
          }
        },
        "f743dde2d8034a239548cd2854a46eb5": {
          "model_module": "@jupyter-widgets/controls",
          "model_name": "DescriptionStyleModel",
          "model_module_version": "1.5.0",
          "state": {
            "_view_name": "StyleView",
            "_model_name": "DescriptionStyleModel",
            "description_width": "",
            "_view_module": "@jupyter-widgets/base",
            "_model_module_version": "1.5.0",
            "_view_count": null,
            "_view_module_version": "1.2.0",
            "_model_module": "@jupyter-widgets/controls"
          }
        },
        "0e2eaee131a94474ab8de9d328307fb7": {
          "model_module": "@jupyter-widgets/base",
          "model_name": "LayoutModel",
          "model_module_version": "1.2.0",
          "state": {
            "_view_name": "LayoutView",
            "grid_template_rows": null,
            "right": null,
            "justify_content": null,
            "_view_module": "@jupyter-widgets/base",
            "overflow": null,
            "_model_module_version": "1.2.0",
            "_view_count": null,
            "flex_flow": null,
            "width": null,
            "min_width": null,
            "border": null,
            "align_items": null,
            "bottom": null,
            "_model_module": "@jupyter-widgets/base",
            "top": null,
            "grid_column": null,
            "overflow_y": null,
            "overflow_x": null,
            "grid_auto_flow": null,
            "grid_area": null,
            "grid_template_columns": null,
            "flex": null,
            "_model_name": "LayoutModel",
            "justify_items": null,
            "grid_row": null,
            "max_height": null,
            "align_content": null,
            "visibility": null,
            "align_self": null,
            "height": null,
            "min_height": null,
            "padding": null,
            "grid_auto_rows": null,
            "grid_gap": null,
            "max_width": null,
            "order": null,
            "_view_module_version": "1.2.0",
            "grid_template_areas": null,
            "object_position": null,
            "object_fit": null,
            "grid_auto_columns": null,
            "margin": null,
            "display": null,
            "left": null
          }
        },
        "f6ad9c7cb0c041cc82c64ad22a0cf6bf": {
          "model_module": "@jupyter-widgets/controls",
          "model_name": "ProgressStyleModel",
          "model_module_version": "1.5.0",
          "state": {
            "_view_name": "StyleView",
            "_model_name": "ProgressStyleModel",
            "description_width": "",
            "_view_module": "@jupyter-widgets/base",
            "_model_module_version": "1.5.0",
            "_view_count": null,
            "_view_module_version": "1.2.0",
            "bar_color": null,
            "_model_module": "@jupyter-widgets/controls"
          }
        },
        "62c0207901da4db591c27d05f6f82de2": {
          "model_module": "@jupyter-widgets/base",
          "model_name": "LayoutModel",
          "model_module_version": "1.2.0",
          "state": {
            "_view_name": "LayoutView",
            "grid_template_rows": null,
            "right": null,
            "justify_content": null,
            "_view_module": "@jupyter-widgets/base",
            "overflow": null,
            "_model_module_version": "1.2.0",
            "_view_count": null,
            "flex_flow": null,
            "width": null,
            "min_width": null,
            "border": null,
            "align_items": null,
            "bottom": null,
            "_model_module": "@jupyter-widgets/base",
            "top": null,
            "grid_column": null,
            "overflow_y": null,
            "overflow_x": null,
            "grid_auto_flow": null,
            "grid_area": null,
            "grid_template_columns": null,
            "flex": null,
            "_model_name": "LayoutModel",
            "justify_items": null,
            "grid_row": null,
            "max_height": null,
            "align_content": null,
            "visibility": null,
            "align_self": null,
            "height": null,
            "min_height": null,
            "padding": null,
            "grid_auto_rows": null,
            "grid_gap": null,
            "max_width": null,
            "order": null,
            "_view_module_version": "1.2.0",
            "grid_template_areas": null,
            "object_position": null,
            "object_fit": null,
            "grid_auto_columns": null,
            "margin": null,
            "display": null,
            "left": null
          }
        },
        "124c25c29df648ec98c9557a72422954": {
          "model_module": "@jupyter-widgets/controls",
          "model_name": "DescriptionStyleModel",
          "model_module_version": "1.5.0",
          "state": {
            "_view_name": "StyleView",
            "_model_name": "DescriptionStyleModel",
            "description_width": "",
            "_view_module": "@jupyter-widgets/base",
            "_model_module_version": "1.5.0",
            "_view_count": null,
            "_view_module_version": "1.2.0",
            "_model_module": "@jupyter-widgets/controls"
          }
        },
        "9de374292a514f89bcb300977970191d": {
          "model_module": "@jupyter-widgets/base",
          "model_name": "LayoutModel",
          "model_module_version": "1.2.0",
          "state": {
            "_view_name": "LayoutView",
            "grid_template_rows": null,
            "right": null,
            "justify_content": null,
            "_view_module": "@jupyter-widgets/base",
            "overflow": null,
            "_model_module_version": "1.2.0",
            "_view_count": null,
            "flex_flow": null,
            "width": null,
            "min_width": null,
            "border": null,
            "align_items": null,
            "bottom": null,
            "_model_module": "@jupyter-widgets/base",
            "top": null,
            "grid_column": null,
            "overflow_y": null,
            "overflow_x": null,
            "grid_auto_flow": null,
            "grid_area": null,
            "grid_template_columns": null,
            "flex": null,
            "_model_name": "LayoutModel",
            "justify_items": null,
            "grid_row": null,
            "max_height": null,
            "align_content": null,
            "visibility": null,
            "align_self": null,
            "height": null,
            "min_height": null,
            "padding": null,
            "grid_auto_rows": null,
            "grid_gap": null,
            "max_width": null,
            "order": null,
            "_view_module_version": "1.2.0",
            "grid_template_areas": null,
            "object_position": null,
            "object_fit": null,
            "grid_auto_columns": null,
            "margin": null,
            "display": null,
            "left": null
          }
        },
        "01935efa72f6495ea533d44fdf313f05": {
          "model_module": "@jupyter-widgets/controls",
          "model_name": "HBoxModel",
          "model_module_version": "1.5.0",
          "state": {
            "_view_name": "HBoxView",
            "_dom_classes": [],
            "_model_name": "HBoxModel",
            "_view_module": "@jupyter-widgets/controls",
            "_model_module_version": "1.5.0",
            "_view_count": null,
            "_view_module_version": "1.5.0",
            "box_style": "",
            "layout": "IPY_MODEL_83af0c2e81bc464aa50dcf516ccc18db",
            "_model_module": "@jupyter-widgets/controls",
            "children": [
              "IPY_MODEL_dd5c862758e74cad9d94428e1967083e",
              "IPY_MODEL_64b4716b3b8f4fc09808ff50e2aefdb8",
              "IPY_MODEL_f87ad988ef56405b98ab1238f6e1f313"
            ]
          }
        },
        "83af0c2e81bc464aa50dcf516ccc18db": {
          "model_module": "@jupyter-widgets/base",
          "model_name": "LayoutModel",
          "model_module_version": "1.2.0",
          "state": {
            "_view_name": "LayoutView",
            "grid_template_rows": null,
            "right": null,
            "justify_content": null,
            "_view_module": "@jupyter-widgets/base",
            "overflow": null,
            "_model_module_version": "1.2.0",
            "_view_count": null,
            "flex_flow": null,
            "width": null,
            "min_width": null,
            "border": null,
            "align_items": null,
            "bottom": null,
            "_model_module": "@jupyter-widgets/base",
            "top": null,
            "grid_column": null,
            "overflow_y": null,
            "overflow_x": null,
            "grid_auto_flow": null,
            "grid_area": null,
            "grid_template_columns": null,
            "flex": null,
            "_model_name": "LayoutModel",
            "justify_items": null,
            "grid_row": null,
            "max_height": null,
            "align_content": null,
            "visibility": null,
            "align_self": null,
            "height": null,
            "min_height": null,
            "padding": null,
            "grid_auto_rows": null,
            "grid_gap": null,
            "max_width": null,
            "order": null,
            "_view_module_version": "1.2.0",
            "grid_template_areas": null,
            "object_position": null,
            "object_fit": null,
            "grid_auto_columns": null,
            "margin": null,
            "display": null,
            "left": null
          }
        },
        "dd5c862758e74cad9d94428e1967083e": {
          "model_module": "@jupyter-widgets/controls",
          "model_name": "HTMLModel",
          "model_module_version": "1.5.0",
          "state": {
            "_view_name": "HTMLView",
            "style": "IPY_MODEL_ab9f68d711634cddb33ebd321170332c",
            "_dom_classes": [],
            "description": "",
            "_model_name": "HTMLModel",
            "placeholder": "​",
            "_view_module": "@jupyter-widgets/controls",
            "_model_module_version": "1.5.0",
            "value": "100%",
            "_view_count": null,
            "_view_module_version": "1.5.0",
            "description_tooltip": null,
            "_model_module": "@jupyter-widgets/controls",
            "layout": "IPY_MODEL_a78034285b14425baa5342ee530ceab2"
          }
        },
        "64b4716b3b8f4fc09808ff50e2aefdb8": {
          "model_module": "@jupyter-widgets/controls",
          "model_name": "FloatProgressModel",
          "model_module_version": "1.5.0",
          "state": {
            "_view_name": "ProgressView",
            "style": "IPY_MODEL_ae9f6f95537443809d53b550c08db7b4",
            "_dom_classes": [],
            "description": "",
            "_model_name": "FloatProgressModel",
            "bar_style": "success",
            "max": 248356138,
            "_view_module": "@jupyter-widgets/controls",
            "_model_module_version": "1.5.0",
            "value": 248356138,
            "_view_count": null,
            "_view_module_version": "1.5.0",
            "orientation": "horizontal",
            "min": 0,
            "description_tooltip": null,
            "_model_module": "@jupyter-widgets/controls",
            "layout": "IPY_MODEL_4af6956c61ef471e87b129ac0065462c"
          }
        },
        "f87ad988ef56405b98ab1238f6e1f313": {
          "model_module": "@jupyter-widgets/controls",
          "model_name": "HTMLModel",
          "model_module_version": "1.5.0",
          "state": {
            "_view_name": "HTMLView",
            "style": "IPY_MODEL_410087ee5b3d4bdbbf1c0c1679aaea9f",
            "_dom_classes": [],
            "description": "",
            "_model_name": "HTMLModel",
            "placeholder": "​",
            "_view_module": "@jupyter-widgets/controls",
            "_model_module_version": "1.5.0",
            "value": " 237M/237M [00:11&lt;00:00, 22.2MB/s]",
            "_view_count": null,
            "_view_module_version": "1.5.0",
            "description_tooltip": null,
            "_model_module": "@jupyter-widgets/controls",
            "layout": "IPY_MODEL_718cb6319a4e40c0917f3eada14371be"
          }
        },
        "ab9f68d711634cddb33ebd321170332c": {
          "model_module": "@jupyter-widgets/controls",
          "model_name": "DescriptionStyleModel",
          "model_module_version": "1.5.0",
          "state": {
            "_view_name": "StyleView",
            "_model_name": "DescriptionStyleModel",
            "description_width": "",
            "_view_module": "@jupyter-widgets/base",
            "_model_module_version": "1.5.0",
            "_view_count": null,
            "_view_module_version": "1.2.0",
            "_model_module": "@jupyter-widgets/controls"
          }
        },
        "a78034285b14425baa5342ee530ceab2": {
          "model_module": "@jupyter-widgets/base",
          "model_name": "LayoutModel",
          "model_module_version": "1.2.0",
          "state": {
            "_view_name": "LayoutView",
            "grid_template_rows": null,
            "right": null,
            "justify_content": null,
            "_view_module": "@jupyter-widgets/base",
            "overflow": null,
            "_model_module_version": "1.2.0",
            "_view_count": null,
            "flex_flow": null,
            "width": null,
            "min_width": null,
            "border": null,
            "align_items": null,
            "bottom": null,
            "_model_module": "@jupyter-widgets/base",
            "top": null,
            "grid_column": null,
            "overflow_y": null,
            "overflow_x": null,
            "grid_auto_flow": null,
            "grid_area": null,
            "grid_template_columns": null,
            "flex": null,
            "_model_name": "LayoutModel",
            "justify_items": null,
            "grid_row": null,
            "max_height": null,
            "align_content": null,
            "visibility": null,
            "align_self": null,
            "height": null,
            "min_height": null,
            "padding": null,
            "grid_auto_rows": null,
            "grid_gap": null,
            "max_width": null,
            "order": null,
            "_view_module_version": "1.2.0",
            "grid_template_areas": null,
            "object_position": null,
            "object_fit": null,
            "grid_auto_columns": null,
            "margin": null,
            "display": null,
            "left": null
          }
        },
        "ae9f6f95537443809d53b550c08db7b4": {
          "model_module": "@jupyter-widgets/controls",
          "model_name": "ProgressStyleModel",
          "model_module_version": "1.5.0",
          "state": {
            "_view_name": "StyleView",
            "_model_name": "ProgressStyleModel",
            "description_width": "",
            "_view_module": "@jupyter-widgets/base",
            "_model_module_version": "1.5.0",
            "_view_count": null,
            "_view_module_version": "1.2.0",
            "bar_color": null,
            "_model_module": "@jupyter-widgets/controls"
          }
        },
        "4af6956c61ef471e87b129ac0065462c": {
          "model_module": "@jupyter-widgets/base",
          "model_name": "LayoutModel",
          "model_module_version": "1.2.0",
          "state": {
            "_view_name": "LayoutView",
            "grid_template_rows": null,
            "right": null,
            "justify_content": null,
            "_view_module": "@jupyter-widgets/base",
            "overflow": null,
            "_model_module_version": "1.2.0",
            "_view_count": null,
            "flex_flow": null,
            "width": null,
            "min_width": null,
            "border": null,
            "align_items": null,
            "bottom": null,
            "_model_module": "@jupyter-widgets/base",
            "top": null,
            "grid_column": null,
            "overflow_y": null,
            "overflow_x": null,
            "grid_auto_flow": null,
            "grid_area": null,
            "grid_template_columns": null,
            "flex": null,
            "_model_name": "LayoutModel",
            "justify_items": null,
            "grid_row": null,
            "max_height": null,
            "align_content": null,
            "visibility": null,
            "align_self": null,
            "height": null,
            "min_height": null,
            "padding": null,
            "grid_auto_rows": null,
            "grid_gap": null,
            "max_width": null,
            "order": null,
            "_view_module_version": "1.2.0",
            "grid_template_areas": null,
            "object_position": null,
            "object_fit": null,
            "grid_auto_columns": null,
            "margin": null,
            "display": null,
            "left": null
          }
        },
        "410087ee5b3d4bdbbf1c0c1679aaea9f": {
          "model_module": "@jupyter-widgets/controls",
          "model_name": "DescriptionStyleModel",
          "model_module_version": "1.5.0",
          "state": {
            "_view_name": "StyleView",
            "_model_name": "DescriptionStyleModel",
            "description_width": "",
            "_view_module": "@jupyter-widgets/base",
            "_model_module_version": "1.5.0",
            "_view_count": null,
            "_view_module_version": "1.2.0",
            "_model_module": "@jupyter-widgets/controls"
          }
        },
        "718cb6319a4e40c0917f3eada14371be": {
          "model_module": "@jupyter-widgets/base",
          "model_name": "LayoutModel",
          "model_module_version": "1.2.0",
          "state": {
            "_view_name": "LayoutView",
            "grid_template_rows": null,
            "right": null,
            "justify_content": null,
            "_view_module": "@jupyter-widgets/base",
            "overflow": null,
            "_model_module_version": "1.2.0",
            "_view_count": null,
            "flex_flow": null,
            "width": null,
            "min_width": null,
            "border": null,
            "align_items": null,
            "bottom": null,
            "_model_module": "@jupyter-widgets/base",
            "top": null,
            "grid_column": null,
            "overflow_y": null,
            "overflow_x": null,
            "grid_auto_flow": null,
            "grid_area": null,
            "grid_template_columns": null,
            "flex": null,
            "_model_name": "LayoutModel",
            "justify_items": null,
            "grid_row": null,
            "max_height": null,
            "align_content": null,
            "visibility": null,
            "align_self": null,
            "height": null,
            "min_height": null,
            "padding": null,
            "grid_auto_rows": null,
            "grid_gap": null,
            "max_width": null,
            "order": null,
            "_view_module_version": "1.2.0",
            "grid_template_areas": null,
            "object_position": null,
            "object_fit": null,
            "grid_auto_columns": null,
            "margin": null,
            "display": null,
            "left": null
          }
        }
      }
    }
  },
  "cells": [
    {
      "cell_type": "markdown",
      "metadata": {
        "id": "fzkJUMTxn8hB"
      },
      "source": [
        "# Panoptic segmentation using DETR\n",
        "\n",
        "In this notebook we demonstrate how to explore the panoptic segmentation capabilities of DETR. The prediction occurs in several steps: \n",
        "\n",
        "1.   The model predicts a box and a binary mask for each object queries\n",
        "2.   We filter the predictions for which the confidence is < 85%\n",
        "3.   Finally, the remaining masks are merged together using a pixel-wise argmax\n",
        "\n",
        "For simplicity, we rely on DETR's postprocessor to execute 2 and 3. We encourage to take a look at the corresponding code to get a better understanding of the process.\n",
        "\n",
        "Finally, we visualize the final prediction using Detectron2."
      ]
    },
    {
      "cell_type": "markdown",
      "metadata": {
        "id": "D94dCpHipOx6"
      },
      "source": [
        "## Preliminaries"
      ]
    },
    {
      "cell_type": "markdown",
      "metadata": {
        "id": "wObDPOY2poRT"
      },
      "source": [
        "This section contains the necessary boiler-plate. Run it first."
      ]
    },
    {
      "cell_type": "code",
      "metadata": {
        "id": "WCXaQ4VaJXv0"
      },
      "source": [
        "from PIL import Image\n",
        "import requests\n",
        "import io\n",
        "import math\n",
        "import matplotlib.pyplot as plt\n",
        "%config InlineBackend.figure_format = 'retina'\n",
        "\n",
        "import torch\n",
        "from torch import nn\n",
        "from torchvision.models import resnet50\n",
        "import torchvision.transforms as T\n",
        "import numpy\n",
        "torch.set_grad_enabled(False);"
      ],
      "execution_count": null,
      "outputs": []
    },
    {
      "cell_type": "markdown",
      "metadata": {
        "id": "9KKzHk3EsKiD"
      },
      "source": [
        "Mount Google Drive"
      ]
    },
    {
      "cell_type": "code",
      "metadata": {
        "colab": {
          "base_uri": "https://localhost:8080/"
        },
        "id": "Baq7CsixsKuu",
        "outputId": "5879c50f-b434-4ce1-d4e9-67d8e23187fd"
      },
      "source": [
        "# Mount the google drive\n",
        "from google.colab import drive\n",
        "drive.mount('/content/drive')"
      ],
      "execution_count": null,
      "outputs": [
        {
          "output_type": "stream",
          "name": "stdout",
          "text": [
            "Mounted at /content/drive\n"
          ]
        }
      ]
    },
    {
      "cell_type": "markdown",
      "metadata": {
        "id": "QtMDds6mpwfn"
      },
      "source": [
        "The panoptic API is required for panoptic inference"
      ]
    },
    {
      "cell_type": "code",
      "metadata": {
        "colab": {
          "base_uri": "https://localhost:8080/"
        },
        "id": "GqAYSZAgCmR9",
        "outputId": "f8719263-4a55-4e3b-e1ea-a4449b0754bc"
      },
      "source": [
        "! pip install git+https://github.com/cocodataset/panopticapi.git\n"
      ],
      "execution_count": null,
      "outputs": [
        {
          "output_type": "stream",
          "name": "stdout",
          "text": [
            "Collecting git+https://github.com/cocodataset/panopticapi.git\n",
            "  Cloning https://github.com/cocodataset/panopticapi.git to /tmp/pip-req-build-qsxdyc6c\n",
            "  Running command git clone -q https://github.com/cocodataset/panopticapi.git /tmp/pip-req-build-qsxdyc6c\n",
            "Requirement already satisfied: numpy in /usr/local/lib/python3.7/dist-packages (from panopticapi==0.1) (1.19.5)\n",
            "Requirement already satisfied: Pillow in /usr/local/lib/python3.7/dist-packages (from panopticapi==0.1) (7.1.2)\n",
            "Building wheels for collected packages: panopticapi\n",
            "  Building wheel for panopticapi (setup.py) ... \u001b[?25l\u001b[?25hdone\n",
            "  Created wheel for panopticapi: filename=panopticapi-0.1-py3-none-any.whl size=8306 sha256=a85ef6660c9219b2da2472c4105141a537f79900282c623b7d4b3cb32f3abedc\n",
            "  Stored in directory: /tmp/pip-ephem-wheel-cache-qey01lt5/wheels/ad/89/b8/b66cce9246af3d71d65d72c85ab993fd28e7578e1b0ed197f1\n",
            "Successfully built panopticapi\n",
            "Installing collected packages: panopticapi\n",
            "Successfully installed panopticapi-0.1\n"
          ]
        }
      ]
    },
    {
      "cell_type": "code",
      "metadata": {
        "id": "0Ys8lZhFCwXe"
      },
      "source": [
        "import panopticapi\n",
        "from panopticapi.utils import id2rgb, rgb2id"
      ],
      "execution_count": null,
      "outputs": []
    },
    {
      "cell_type": "code",
      "metadata": {
        "id": "QD4mQxHIqGCr"
      },
      "source": [
        "# Detectron2 uses a different numbering scheme, we build a conversion table\n",
        "# coco2d2 = {}\n",
        "# count = 0\n",
        "# for i, c in enumerate(CLASSES):\n",
        "#   if c != \"N/A\":\n",
        "#     coco2d2[i] = count\n",
        "#     count+=1\n",
        "\n",
        "# standard PyTorch mean-std input image normalization\n",
        "transform = T.Compose([\n",
        "    T.Resize(800),\n",
        "    T.ToTensor(),\n",
        "    T.Normalize([0.485, 0.456, 0.406], [0.229, 0.224, 0.225])\n",
        "])\n",
        "\n"
      ],
      "execution_count": null,
      "outputs": []
    },
    {
      "cell_type": "markdown",
      "metadata": {
        "id": "OMFPx33oqjl-"
      },
      "source": [
        "## Using a model from hub\n",
        "\n",
        "We load a pre-trained model directly from torch hub. Note that we also request the post-processor"
      ]
    },
    {
      "cell_type": "code",
      "metadata": {
        "colab": {
          "base_uri": "https://localhost:8080/",
          "height": 155,
          "referenced_widgets": [
            "576e2e1201964e26bcbdfd3c63c6583d",
            "3f5d489882384338b1d07449bec85cf1",
            "1404fe30ed114f2b8d19dec15d97b6e0",
            "00e08d4606394339b2d33b77ac453d17",
            "3cd60cc3fa174f25a47b5008dcb14882",
            "f743dde2d8034a239548cd2854a46eb5",
            "0e2eaee131a94474ab8de9d328307fb7",
            "f6ad9c7cb0c041cc82c64ad22a0cf6bf",
            "62c0207901da4db591c27d05f6f82de2",
            "124c25c29df648ec98c9557a72422954",
            "9de374292a514f89bcb300977970191d",
            "01935efa72f6495ea533d44fdf313f05",
            "83af0c2e81bc464aa50dcf516ccc18db",
            "dd5c862758e74cad9d94428e1967083e",
            "64b4716b3b8f4fc09808ff50e2aefdb8",
            "f87ad988ef56405b98ab1238f6e1f313",
            "ab9f68d711634cddb33ebd321170332c",
            "a78034285b14425baa5342ee530ceab2",
            "ae9f6f95537443809d53b550c08db7b4",
            "4af6956c61ef471e87b129ac0065462c",
            "410087ee5b3d4bdbbf1c0c1679aaea9f",
            "718cb6319a4e40c0917f3eada14371be"
          ]
        },
        "id": "5uUW5iRnJhxM",
        "outputId": "7817e9f7-5bba-4d56-bc18-ee3db625fa26"
      },
      "source": [
        "model, postprocessor = torch.hub.load('facebookresearch/detr', 'detr_resnet101_panoptic', pretrained=True, return_postprocessor=True, num_classes=250)\n",
        "model.eval();"
      ],
      "execution_count": null,
      "outputs": [
        {
          "output_type": "stream",
          "name": "stderr",
          "text": [
            "Downloading: \"https://github.com/facebookresearch/detr/archive/master.zip\" to /root/.cache/torch/hub/master.zip\n",
            "Downloading: \"https://download.pytorch.org/models/resnet101-63fe2227.pth\" to /root/.cache/torch/hub/checkpoints/resnet101-63fe2227.pth\n"
          ]
        },
        {
          "output_type": "display_data",
          "data": {
            "application/vnd.jupyter.widget-view+json": {
              "model_id": "576e2e1201964e26bcbdfd3c63c6583d",
              "version_minor": 0,
              "version_major": 2
            },
            "text/plain": [
              "  0%|          | 0.00/171M [00:00<?, ?B/s]"
            ]
          },
          "metadata": {}
        },
        {
          "output_type": "stream",
          "name": "stderr",
          "text": [
            "Downloading: \"https://dl.fbaipublicfiles.com/detr/detr-r101-panoptic-40021d53.pth\" to /root/.cache/torch/hub/checkpoints/detr-r101-panoptic-40021d53.pth\n"
          ]
        },
        {
          "output_type": "display_data",
          "data": {
            "application/vnd.jupyter.widget-view+json": {
              "model_id": "01935efa72f6495ea533d44fdf313f05",
              "version_minor": 0,
              "version_major": 2
            },
            "text/plain": [
              "  0%|          | 0.00/237M [00:00<?, ?B/s]"
            ]
          },
          "metadata": {}
        }
      ]
    },
    {
      "cell_type": "markdown",
      "metadata": {
        "id": "is76xRRYsC3y"
      },
      "source": [
        "This returns a mask for each query, let us visualize the high confidence ones"
      ]
    },
    {
      "cell_type": "code",
      "metadata": {
        "id": "8C70Ox6aIuCx"
      },
      "source": [
        "def get_box_coords(boxes):\n",
        "    x, y, w, h = boxes.unbind(1)\n",
        "    x0, y0 = (x - 0.5 * w), (y - 0.5 * h)\n",
        "    x1, y1 = (x + 0.5 * w), (y + 0.5 * h)\n",
        "    box = [x0, y0, x1, y1]\n",
        "    return torch.stack(box, dim=1)\n",
        "\n",
        "# Scale box from [0,1]x[0,1] to [0, width]x[0, height]\n",
        "def scale_boxes(output_box, width, height):\n",
        "    box_coords = get_box_coords(output_box)\n",
        "    scale_tensor = torch.Tensor(\n",
        "                 [width, height, width, height])\n",
        "    return box_coords * scale_tensor"
      ],
      "execution_count": null,
      "outputs": []
    },
    {
      "cell_type": "markdown",
      "metadata": {
        "id": "Xogcrl83wy-O"
      },
      "source": [
        "Create a Data Frame to store the Predicted Bounding Boxes and Segmentation Masks "
      ]
    },
    {
      "cell_type": "code",
      "metadata": {
        "id": "wOB5rMwPwzHI"
      },
      "source": [
        "import pandas as pd\n",
        "import os\n",
        "import itertools\n",
        "import seaborn as sns\n",
        "#df=pd.DataFrame(columns= ['dir','file_name','segmentation','area,bbox','category_id','is_thing','panoptic_seg_id','panoptic_seg_shape'])"
      ],
      "execution_count": null,
      "outputs": []
    },
    {
      "cell_type": "markdown",
      "metadata": {
        "id": "ocODwfQCrdMJ"
      },
      "source": [
        "Next, we retrieve an image on which we wish to test the model. Here, we use an image from the validation set of COCO"
      ]
    },
    {
      "cell_type": "code",
      "metadata": {
        "id": "-urxXMflbuiF"
      },
      "source": [
        "# from PIL import Image\n",
        "\n",
        "# img_name = '/content/img_104.png'\n",
        "# im = Image.open(img_name).convert('RGB')\n"
      ],
      "execution_count": null,
      "outputs": []
    },
    {
      "cell_type": "markdown",
      "metadata": {
        "id": "hek_HS5JVyHO"
      },
      "source": [
        "# Prepare the Dataframe "
      ]
    },
    {
      "cell_type": "code",
      "metadata": {
        "id": "4u8KY5vXfWJe"
      },
      "source": [
        "'/content/drive/MyDrive/pipe_fittings/images',\n",
        "'/content/drive/MyDrive/rcc_hume_pipes/images',\n",
        "'/content/drive/MyDrive/refrigerant_gas/images',\n",
        "'/content/drive/MyDrive/river_sand/images',\n",
        "'/content/drive/MyDrive/rmc_batching_plant/images',\n",
        "'/content/drive/MyDrive/rmu_units/images',\n",
        "'/content/drive/MyDrive/sanitary_fixtures/images',\n",
        "'/content/drive/MyDrive/skid_steer_loader_(bobcat)/images',\n",
        "'/content/drive/MyDrive/smoke_detectors/images',\n",
        "'/content/drive/MyDrive/split_units/images',\n",
        "'/content/drive/MyDrive/structural_steel_-_channel/images',\n",
        "'/content/drive/MyDrive/switch_boards_and_switches/images',\n",
        "'/content/drive/MyDrive/texture_paint/images',\n",
        "'/content/drive/MyDrive/threaded_rod/images',\n",
        "'/content/drive/MyDrive/transit_mixer/images',\n",
        "'/content/drive/MyDrive/vcb_panel/images',\n",
        "'/content/drive/MyDrive/vitrified_tiles/images',\n",
        "'/content/drive/MyDrive/vrf_units/images',\n",
        "'/content/drive/MyDrive/water_tank/images',\n",
        "'/content/drive/MyDrive/wheel_loader/images',\n",
        "'/content/drive/MyDrive/wood_primer/images'"
      ],
      "execution_count": null,
      "outputs": []
    },
    {
      "cell_type": "code",
      "metadata": {
        "colab": {
          "base_uri": "https://localhost:8080/"
        },
        "id": "-oHGDtUxV0kB",
        "outputId": "f366d2af-db4a-422d-89da-b534a8f7a1e4"
      },
      "source": [
        "dir_list=['/content/drive/MyDrive/vitrified_tiles/images',\n",
        "'/content/drive/MyDrive/vrf_units/images',\n",
        "'/content/drive/MyDrive/water_tank/images',\n",
        "'/content/drive/MyDrive/wheel_loader/images',\n",
        "'/content/drive/MyDrive/wood_primer/images']\n",
        "for dir in dir_list:\n",
        "  print('Currently Working on Directory:', dir)\n",
        "  os.chdir(dir)\n",
        "  df=pd.DataFrame(columns=['dir','file_name','segmentation','area','bbox','category_id','is_thing','panoptic_seg_id','panoptic_seg_shape'])\n",
        "  for file in (os.listdir(dir)):\n",
        "    im = Image.open(file)\n",
        "    if im.mode == 'RGB':\n",
        "      # mean-std normalize the input image (batch-size: 1)\n",
        "      img = transform(im).unsqueeze(0)\n",
        "      out = model(img)\n",
        "      # compute the scores, excluding the \"no-object\" class (the last one)\n",
        "      scores = out[\"pred_logits\"].softmax(-1)[..., :-1].max(-1)[0]\n",
        "      # threshold the confidence\n",
        "      keep = scores > 0.85\n",
        "      # convert boxes from [0; 1] to image scales\n",
        "      width = im.size[0]\n",
        "      height = im.size[1]\n",
        "      bboxes_scaled = scale_boxes(out['pred_boxes'][keep], width, height)\n",
        "      seg= out[\"pred_masks\"][keep]\n",
        "      # the post-processor expects as input the target size of the predictions (which we set here to the image size)\n",
        "      result = postprocessor(out, torch.as_tensor(img.shape[-2:]).unsqueeze(0))[0]\n",
        "      \n",
        "      \n",
        "      palette = itertools.cycle(sns.color_palette())\n",
        "      # The segmentation is stored in a special-format png\n",
        "      panoptic_seg = Image.open(io.BytesIO(result['png_string']))\n",
        "      panoptic_seg = numpy.array(panoptic_seg, dtype=numpy.uint8).copy()\n",
        "      # We retrieve the ids corresponding to each mask\n",
        "      panoptic_seg_id = rgb2id(panoptic_seg)\n",
        "      #print(len(bboxes_scaled), len(panoptic_seg),len(panoptic_seg[0]))\n",
        "      for i in range(len(result['segments_info'])):\n",
        "        df = df.append({'dir':dir,'file_name':file,'segmentation':seg[i][0],'area':result['segments_info'][i]['area'],'bbox':bboxes_scaled[i],'category_id':result['segments_info'][i]['category_id'],'is_thing':result['segments_info'][i]['isthing'],'panoptic_seg_id':panoptic_seg_id[i],'panoptic_seg_shape':panoptic_seg[i]},ignore_index=True)\n",
        "        #print(panoptic_seg_id[i],panoptic_seg[i])\n",
        "  df.to_csv('output.csv')\n",
        "  print('CSV written successfully')\n",
        "\n"
      ],
      "execution_count": null,
      "outputs": [
        {
          "output_type": "stream",
          "name": "stdout",
          "text": [
            "Currently Working on Directory: /content/drive/MyDrive/vitrified_tiles/images\n"
          ]
        },
        {
          "output_type": "stream",
          "name": "stderr",
          "text": [
            "/usr/local/lib/python3.7/dist-packages/torch/nn/functional.py:718: UserWarning: Named tensors and all their associated APIs are an experimental feature and subject to change. Please do not use them for anything important until they are released as stable. (Triggered internally at  /pytorch/c10/core/TensorImpl.h:1156.)\n",
            "  return torch.max_pool2d(input, kernel_size, stride, padding, dilation, ceil_mode)\n",
            "/usr/local/lib/python3.7/dist-packages/torch/_tensor.py:575: UserWarning: floor_divide is deprecated, and will be removed in a future version of pytorch. It currently rounds toward 0 (like the 'trunc' function NOT 'floor'). This results in incorrect rounding for negative values.\n",
            "To keep the current behavior, use torch.div(a, b, rounding_mode='trunc'), or for actual floor division, use torch.div(a, b, rounding_mode='floor'). (Triggered internally at  /pytorch/aten/src/ATen/native/BinaryOps.cpp:467.)\n",
            "  return torch.floor_divide(self, other)\n",
            "/usr/local/lib/python3.7/dist-packages/torch/nn/functional.py:3613: UserWarning: Default upsampling behavior when mode=bilinear is changed to align_corners=False since 0.4.0. Please specify align_corners=True if the old behavior is desired. See the documentation of nn.Upsample for details.\n",
            "  \"See the documentation of nn.Upsample for details.\".format(mode)\n"
          ]
        },
        {
          "output_type": "stream",
          "name": "stdout",
          "text": [
            "CSV written successfully\n",
            "Currently Working on Directory: /content/drive/MyDrive/vrf_units/images\n",
            "CSV written successfully\n",
            "Currently Working on Directory: /content/drive/MyDrive/water_tank/images\n",
            "CSV written successfully\n",
            "Currently Working on Directory: /content/drive/MyDrive/wheel_loader/images\n",
            "CSV written successfully\n",
            "Currently Working on Directory: /content/drive/MyDrive/wood_primer/images\n",
            "CSV written successfully\n"
          ]
        }
      ]
    },
    {
      "cell_type": "code",
      "metadata": {
        "id": "F5Gzpn8V8yoD"
      },
      "source": [
        ""
      ],
      "execution_count": null,
      "outputs": []
    }
  ]
}